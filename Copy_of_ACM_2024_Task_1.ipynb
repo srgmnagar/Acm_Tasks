{
  "nbformat": 4,
  "nbformat_minor": 0,
  "metadata": {
    "colab": {
      "provenance": [],
      "include_colab_link": true
    },
    "kernelspec": {
      "name": "python3",
      "display_name": "Python 3"
    },
    "language_info": {
      "name": "python"
    }
  },
  "cells": [
    {
      "cell_type": "markdown",
      "metadata": {
        "id": "view-in-github",
        "colab_type": "text"
      },
      "source": [
        "<a href=\"https://colab.research.google.com/github/srgmnagar/Acm_Tasks/blob/main/Copy_of_ACM_2024_Task_1.ipynb\" target=\"_parent\"><img src=\"https://colab.research.google.com/assets/colab-badge.svg\" alt=\"Open In Colab\"/></a>"
      ]
    },
    {
      "cell_type": "markdown",
      "source": [
        "# **ACM Task 1**\n",
        "\n",
        "Welcome mentees to your first task in ACM!\n",
        "\n",
        "\n",
        "Our focus this week is on mastering [Python](http://alturl.com/5536k)—a language that powers countless applications, from web development to AI and data science. By the end of this notebook, you’ll have a strong foundation in Python that will serve as a stepping stone for more advanced topics in the coming weeks.\n",
        "\n",
        "Whether you’re new to Python or looking to solidify your understanding, this task will set the stage for everything we’ll cover throughout the learning period.\n",
        "\n",
        "Please don’t hesitate to reach out with any questions. We’re here to support you every step of the way.\n",
        "\n",
        "Let’s dive in and start coding!"
      ],
      "metadata": {
        "id": "bugnHkGyHHj5"
      }
    },
    {
      "cell_type": "markdown",
      "source": [
        "## **NOTE:**\n",
        "\n",
        "**Copy this notebook to your own drive (click on 'File' option in the NavBar' and select 'Save a copy in Drive') and then run the notebook and make whatever changes you want on it. Once you have finished the task, push the notebook to a GitHub repository named 'ACM\\_24_task\\_1'.**"
      ],
      "metadata": {
        "id": "2hsWkr1yGqmH"
      }
    },
    {
      "cell_type": "markdown",
      "source": [
        "## Colab Notebook Execution"
      ],
      "metadata": {
        "id": "XY4yMkngKWv6"
      }
    },
    {
      "cell_type": "markdown",
      "source": [
        "We will use Jupyter notebooks and Google colab as the primary way to practice machine learning. Notebooks are a great way to mix executable code with rich contents (HTML, images, equations written in LaTeX). Colab allows to run notebooks on the cloud for free without any prior installation, while leveraging the power of [GPUs](https://en.wikipedia.org/wiki/Graphics_processing_unit)."
      ],
      "metadata": {
        "id": "fLk-YXApKGD7"
      }
    },
    {
      "cell_type": "markdown",
      "source": [
        "The document that you are reading is not a static web page, but an interactive environment called a notebook, that lets you write and execute code. Notebooks consist of so-called code cells, blocks of one or more Python instructions. For example, here is a code cell that stores the result of a computation (the number of seconds in a day) in a variable and prints its value:"
      ],
      "metadata": {
        "id": "3WU0qHuqKQXQ"
      }
    },
    {
      "cell_type": "code",
      "source": [
        "seconds_in_a_day = 24 * 60 * 60\n",
        "seconds_in_a_day"
      ],
      "metadata": {
        "colab": {
          "base_uri": "https://localhost:8080/"
        },
        "id": "YMkzXOXyKU_o",
        "outputId": "dbcda787-2e36-4c18-f616-4374e557a9ce"
      },
      "execution_count": null,
      "outputs": [
        {
          "output_type": "execute_result",
          "data": {
            "text/plain": [
              "86400"
            ]
          },
          "metadata": {},
          "execution_count": 1
        }
      ]
    },
    {
      "cell_type": "markdown",
      "source": [
        "Click on the \"play\" button to execute the cell. You should be able to see the result. Alternatively, you can also execute the cell by pressing Ctrl + Enter if you are on Windows / Linux or Command + Enter if you are on a Mac."
      ],
      "metadata": {
        "id": "SJ1jX0XiKfk6"
      }
    },
    {
      "cell_type": "markdown",
      "source": [
        "## I/O"
      ],
      "metadata": {
        "id": "aURtzRhqI9au"
      }
    },
    {
      "cell_type": "code",
      "execution_count": null,
      "metadata": {
        "colab": {
          "base_uri": "https://localhost:8080/"
        },
        "id": "8k_e19mRFcsk",
        "outputId": "178fd814-b1ad-49af-db7d-817430fa4436"
      },
      "outputs": [
        {
          "output_type": "stream",
          "name": "stdout",
          "text": [
            "What is your name? Harry\n",
            "Hello, Harry\n"
          ]
        }
      ],
      "source": [
        "name = input(\"What is your name? \") # String input\n",
        "print(\"Hello,\", name)"
      ]
    },
    {
      "cell_type": "code",
      "source": [
        "dob = float(input(\"When were you born? \")) # Integer input (try removing the int() function and see what happens!)\n",
        "print(\"You are\",2024 - dob, \"years old.\") # Like integer, you can do above for other data types like float as well"
      ],
      "metadata": {
        "colab": {
          "base_uri": "https://localhost:8080/"
        },
        "id": "WAfUg1_5JLjL",
        "outputId": "52b92908-0fdd-428b-e9f0-82b3836078e3"
      },
      "execution_count": null,
      "outputs": [
        {
          "output_type": "stream",
          "name": "stdout",
          "text": [
            "When were you born? 2030\n",
            "You are -6.0 years old.\n"
          ]
        }
      ]
    },
    {
      "cell_type": "code",
      "source": [
        "## Different ways to print\n",
        "age = 2024 - dob\n",
        "print(\"You are\", age, \"years old.\") # Simplest way to print\n",
        "print(\"You are \" + str(age) + \" years old.\") # Via String Concatenation\n",
        "print(f\"You are {age} years old.\") # Via f-strings (introduced in python 3.6)"
      ],
      "metadata": {
        "colab": {
          "base_uri": "https://localhost:8080/"
        },
        "id": "YfjihY8jJVvX",
        "outputId": "e6841210-8187-47d1-ff4e-241faacdd5fc"
      },
      "execution_count": null,
      "outputs": [
        {
          "output_type": "stream",
          "name": "stdout",
          "text": [
            "You are 19.0 years old.\n",
            "You are 19.0 years old.\n",
            "You are 19.0 years old.\n"
          ]
        }
      ]
    },
    {
      "cell_type": "code",
      "source": [
        "print(\"I am a ACM Mentee.\", end=\" \") # Change print output from newline to single space.\n",
        "print(\"I am a DJ Sanghvi student.\")"
      ],
      "metadata": {
        "colab": {
          "base_uri": "https://localhost:8080/"
        },
        "id": "rX9WPxH4NaXA",
        "outputId": "4d168126-ed43-4ed7-f469-3fc79e7f73d1"
      },
      "execution_count": null,
      "outputs": [
        {
          "output_type": "stream",
          "name": "stdout",
          "text": [
            "I am a ACM Mentee. I am a DJ Sanghvi student.\n"
          ]
        }
      ]
    },
    {
      "cell_type": "markdown",
      "source": [
        "**Exercise Time**\n",
        "\n",
        "- Ask the user to enter their first name.\n",
        "- Store the input in a variable named first_name.\n",
        "- Print a greeting message using the first_name variable.\n",
        "- Experiment with different ways to format the output:\n",
        "  - Using f-strings\n",
        "  - Using the format() method\n",
        "  - Using the % operator"
      ],
      "metadata": {
        "id": "b0zUMF2T75_F"
      }
    },
    {
      "cell_type": "code",
      "source": [
        "# write your code here\n",
        "first_name=input(\"Enter your first name: \")\n",
        "print(f\"welcome to google collab {first_name}\")\n",
        "print(\"welcome to google collab {}\".format(first_name))\n",
        "print(f\"welcome to google collab %s\"%first_name)"
      ],
      "metadata": {
        "id": "ECZrVnJ59lU7",
        "colab": {
          "base_uri": "https://localhost:8080/"
        },
        "outputId": "9dbece24-99f2-4a86-a6b9-0300581a994b"
      },
      "execution_count": null,
      "outputs": [
        {
          "output_type": "stream",
          "name": "stdout",
          "text": [
            "Enter your first name: sargam\n",
            "welcome to google collab sargam\n",
            "welcome to google collab sargam\n",
            "welcome to google collab sargam\n"
          ]
        }
      ]
    },
    {
      "cell_type": "markdown",
      "source": [
        "## Expressions and Data Types"
      ],
      "metadata": {
        "id": "3gdWYiPPLBk9"
      }
    },
    {
      "cell_type": "markdown",
      "source": [
        "Python offers a rich set of data types including numbers, strings, lists, dictionaries, and more, each serving specific data handling needs. As a dynamic language, Python determines the data type of a variable at runtime, providing flexibility in assigning different data types to the same variable without explicit declaration.\n",
        "So no need of writing data types of each and every variable. Python is smart enough to figure out on it's own! You can find the type of variables via the type() function. Some common data types you will mostly use are:\n",
        "\n",
        "* Numbers\n",
        "  * integers\n",
        "  * floating-point\n",
        "  * complex numbers\n",
        "* strings\n",
        "* boolean values\n",
        "* lists and dicts"
      ],
      "metadata": {
        "id": "LLRf2ADVLPeB"
      }
    },
    {
      "cell_type": "code",
      "source": [
        "12 + 3.5 # addition"
      ],
      "metadata": {
        "colab": {
          "base_uri": "https://localhost:8080/"
        },
        "id": "5_iXm6qxLQQU",
        "outputId": "6342d95a-18c3-4cd5-dac5-c182fa71d9eb"
      },
      "execution_count": null,
      "outputs": [
        {
          "output_type": "execute_result",
          "data": {
            "text/plain": [
              "15.5"
            ]
          },
          "metadata": {},
          "execution_count": 7
        }
      ]
    },
    {
      "cell_type": "code",
      "source": [
        "5 - 9.1 # subtraction"
      ],
      "metadata": {
        "colab": {
          "base_uri": "https://localhost:8080/"
        },
        "id": "61mDjvu3LZ3o",
        "outputId": "52f141fd-f5a0-4009-91ee-ab11a26adad8"
      },
      "execution_count": null,
      "outputs": [
        {
          "output_type": "execute_result",
          "data": {
            "text/plain": [
              "-4.1"
            ]
          },
          "metadata": {},
          "execution_count": 8
        }
      ]
    },
    {
      "cell_type": "code",
      "source": [
        "3.1 * 4 # multiplication"
      ],
      "metadata": {
        "colab": {
          "base_uri": "https://localhost:8080/"
        },
        "id": "dIBpNK-dLd6O",
        "outputId": "73e09d1d-d9ef-477c-caf3-317fb6e53ed5"
      },
      "execution_count": null,
      "outputs": [
        {
          "output_type": "execute_result",
          "data": {
            "text/plain": [
              "12.4"
            ]
          },
          "metadata": {},
          "execution_count": 9
        }
      ]
    },
    {
      "cell_type": "code",
      "source": [
        "13 // 5 # division"
      ],
      "metadata": {
        "colab": {
          "base_uri": "https://localhost:8080/"
        },
        "id": "19Wyx0G1LiQY",
        "outputId": "81ef9747-bd5b-4961-fbe2-1ca90d00731c"
      },
      "execution_count": null,
      "outputs": [
        {
          "output_type": "execute_result",
          "data": {
            "text/plain": [
              "2"
            ]
          },
          "metadata": {},
          "execution_count": 18
        }
      ]
    },
    {
      "cell_type": "code",
      "source": [
        "round(13 / 5) # rounding off"
      ],
      "metadata": {
        "colab": {
          "base_uri": "https://localhost:8080/"
        },
        "id": "CDZEqq_eO9yk",
        "outputId": "a734743c-5923-42af-9cbf-3a9f5ce4c20a"
      },
      "execution_count": null,
      "outputs": [
        {
          "output_type": "execute_result",
          "data": {
            "text/plain": [
              "3"
            ]
          },
          "metadata": {},
          "execution_count": 22
        }
      ]
    },
    {
      "cell_type": "code",
      "source": [
        "2.5 ** 2 # exponentiation"
      ],
      "metadata": {
        "colab": {
          "base_uri": "https://localhost:8080/"
        },
        "id": "LGSCdVDeLlcy",
        "outputId": "de727652-6d63-446d-f8d7-96c588b88615"
      },
      "execution_count": null,
      "outputs": [
        {
          "output_type": "execute_result",
          "data": {
            "text/plain": [
              "6.25"
            ]
          },
          "metadata": {},
          "execution_count": 12
        }
      ]
    },
    {
      "cell_type": "code",
      "source": [
        "5 + 3j # complex number"
      ],
      "metadata": {
        "colab": {
          "base_uri": "https://localhost:8080/"
        },
        "id": "DtkDL0zyM-0E",
        "outputId": "207d3aa8-6608-4bca-b7fe-1ff53a00d89c"
      },
      "execution_count": null,
      "outputs": [
        {
          "output_type": "execute_result",
          "data": {
            "text/plain": [
              "(5+3j)"
            ]
          },
          "metadata": {},
          "execution_count": 13
        }
      ]
    },
    {
      "cell_type": "markdown",
      "source": [
        "## Conditionals"
      ],
      "metadata": {
        "id": "aZRdsLCmPOeQ"
      }
    },
    {
      "cell_type": "code",
      "source": [
        "## if-else statements (note that we use elif instead of else if)\n",
        "score = int(input(\"Score: \"))\n",
        "\n",
        "if 90 <= score <= 100:\n",
        "    print(\"Grade: A\")\n",
        "elif 80 <= score < 90:\n",
        "    print(\"Grade: B\")\n",
        "elif 70 <= score < 80:\n",
        "    print(\"Grade: C\")\n",
        "elif 60 <= score < 70:\n",
        "    print(\"Grade: D\")\n",
        "else:\n",
        "    print(\"Grade: F\")"
      ],
      "metadata": {
        "colab": {
          "base_uri": "https://localhost:8080/"
        },
        "id": "W5ae1vlyPQuN",
        "outputId": "44d9e271-4c55-4b74-d1e7-eca2a8db9c66"
      },
      "execution_count": null,
      "outputs": [
        {
          "output_type": "stream",
          "name": "stdout",
          "text": [
            "Score: 65\n",
            "Grade: D\n"
          ]
        }
      ]
    },
    {
      "cell_type": "markdown",
      "source": [
        "In the programming world, there are types of programming that are called “Pythonic” in nature. That is, there are ways to program that are sometimes only seen in Python programming. Notice that this statement in our code is almost like a sentence in English. This is a unique way of coding only seen in Python."
      ],
      "metadata": {
        "id": "dXDEHf7ZQcw6"
      }
    },
    {
      "cell_type": "code",
      "source": [
        "print(\"You are eligible to vote\" if dob <= 2006 else \"You are not eligible to vote\")"
      ],
      "metadata": {
        "colab": {
          "base_uri": "https://localhost:8080/"
        },
        "id": "B3xeHzCkQEBw",
        "outputId": "6fa0b0b5-d9ce-4403-9764-a9e74f49531e"
      },
      "execution_count": null,
      "outputs": [
        {
          "output_type": "stream",
          "name": "stdout",
          "text": [
            "You are not eligible to vote\n"
          ]
        }
      ]
    },
    {
      "cell_type": "code",
      "source": [
        "# Instead of switch, we use match in python. (Note how instead of default, we have used case _)\n",
        "name = input(\"What's your name? \")\n",
        "\n",
        "match name:\n",
        "    case \"Harry\":\n",
        "        print(\"Gryffindor\")\n",
        "    case \"Hermione\":\n",
        "        print(\"Gryffindor\")\n",
        "    case \"Ron\"|\"ron\":\n",
        "        print(\"Gryffindor\")\n",
        "    case \"Draco\":\n",
        "        print(\"Slytherin\")\n",
        "    case _:\n",
        "        print(\"Who?\")"
      ],
      "metadata": {
        "colab": {
          "base_uri": "https://localhost:8080/"
        },
        "id": "GBvnb76VQyvB",
        "outputId": "09d79354-1716-40be-8a56-93c183d000d7"
      },
      "execution_count": null,
      "outputs": [
        {
          "output_type": "stream",
          "name": "stdout",
          "text": [
            "What's your name? ron\n",
            "Gryffindor\n"
          ]
        }
      ]
    },
    {
      "cell_type": "markdown",
      "source": [
        "There is some redundancy in the above code. See how I have [refactored](https://www.agilealliance.org/glossary/refactoring/) the code:"
      ],
      "metadata": {
        "id": "qa9p25gNRa6F"
      }
    },
    {
      "cell_type": "code",
      "source": [
        "name = input(\"What's your name? \")\n",
        "\n",
        "match name:\n",
        "    case \"Harry\" | \"Hermione\" | \"Ron\":\n",
        "        print(\"Gryffindor\")\n",
        "    case \"Draco\":\n",
        "        print(\"Slytherin\")\n",
        "    case _:\n",
        "        print(\"Who?\")\n",
        "\n",
        "# Notice, the use of the single vertical bar |. This allows us to check for multiple values in the same case statement."
      ],
      "metadata": {
        "colab": {
          "base_uri": "https://localhost:8080/"
        },
        "id": "OclOLSbHRCi6",
        "outputId": "fc97e14a-a8f7-41f9-c113-755a87e1d125"
      },
      "execution_count": null,
      "outputs": [
        {
          "output_type": "stream",
          "name": "stdout",
          "text": [
            "What's your name? Hermione\n",
            "Gryffindor\n"
          ]
        }
      ]
    },
    {
      "cell_type": "markdown",
      "source": [
        "**Exercise Time**\n",
        "\n",
        "Scenario:\n",
        "You are a budding potioneer at Hogwarts. You need to create a potion of a specific strength. The strength of a potion is determined by the ratio of its ingredients.\n",
        "\n",
        "Instructions:\n",
        "\n",
        "Gather ingredients:\n",
        "\n",
        "- Ask the user to input the quantity of two ingredients (e.g., Snape's Special Spice and Newt's Nodule Extract).\n",
        "- Store these values as numerical variables.\n",
        "\n",
        "Calculate potion strength:\n",
        "\n",
        "The potion strength is calculated as the ratio of Snape's Special Spice to the total quantity of both ingredients.\n",
        "Calculate and store the potion strength as a percentage.\n",
        "Determine potion quality:\n",
        "\n",
        "- If the potion strength is between 30% and 70%, print \"Acceptable Potion\".\n",
        "- If the potion strength is less than 30%, print \"Potion is too weak!\".\n",
        "- If the potion strength is greater than 70%, print \"Potion is too strong!\"."
      ],
      "metadata": {
        "id": "tqUhvc2WIkdJ"
      }
    },
    {
      "cell_type": "code",
      "source": [
        "# write your code here\n",
        "snape_spice=float(input(\" quantity of Snape's Special Spice(in ml)\"))\n",
        "newt_nodule=float(input(\" quantity of Newt's Nodule Extract(in ml)\"))\n",
        "total=snape_spice/(snape_spice+newt_nodule)*100\n",
        "print(f\"{total:.2f}% Potion is too strong!\" if total>70 else f\"{total:.2f}% Potion is too weak!\" if total<30 else f\"{total:.2f}% Acceptable Potion\")"
      ],
      "metadata": {
        "id": "OnbpQWQWIhN5",
        "colab": {
          "base_uri": "https://localhost:8080/"
        },
        "outputId": "7186b151-960d-4c33-e165-bef842628166"
      },
      "execution_count": null,
      "outputs": [
        {
          "output_type": "stream",
          "name": "stdout",
          "text": [
            " quantity of Snape's Special Spice(in ml)77\n",
            " quantity of Newt's Nodule Extract(in ml)8\n",
            "90.59% Potion is too strong!\n"
          ]
        }
      ]
    },
    {
      "cell_type": "markdown",
      "source": [
        "## Loops"
      ],
      "metadata": {
        "id": "gBkfsuefSZzf"
      }
    },
    {
      "cell_type": "code",
      "source": [
        "# while loop remains the same as always\n",
        "i = 3\n",
        "while i != 0:\n",
        "  print(\"meow\")\n",
        "  i = i - 1"
      ],
      "metadata": {
        "colab": {
          "base_uri": "https://localhost:8080/"
        },
        "id": "ehePei0eSbRr",
        "outputId": "7a3f4e80-35d9-475c-9498-9e0239575279"
      },
      "execution_count": null,
      "outputs": [
        {
          "output_type": "stream",
          "name": "stdout",
          "text": [
            "meow\n",
            "meow\n",
            "meow\n"
          ]
        }
      ]
    },
    {
      "cell_type": "markdown",
      "source": [
        "There is a major change in how we write for loops. To best understand a for loop, it’s best to begin by talking about a new variable type called a list in Python. As in other areas of our lives, we can have a grocery list, a to-do list, etc. A for loop iterates through a list of items."
      ],
      "metadata": {
        "id": "Sc-qvLHRSwkt"
      }
    },
    {
      "cell_type": "code",
      "source": [
        "for i in [0, 1, 2]: # here [0, 1, 2] is a list (similar to arrays)\n",
        "    print(\"meow\")"
      ],
      "metadata": {
        "colab": {
          "base_uri": "https://localhost:8080/"
        },
        "id": "Ptn9cDVnS6Y9",
        "outputId": "94b387fa-7be3-4383-a4fc-c55700e54b42"
      },
      "execution_count": null,
      "outputs": [
        {
          "output_type": "stream",
          "name": "stdout",
          "text": [
            "meow\n",
            "meow\n",
            "meow\n"
          ]
        }
      ]
    },
    {
      "cell_type": "markdown",
      "source": [
        "However, what if you wanted to iterate up to a million? It’s best to create code that can work with such extreme cases."
      ],
      "metadata": {
        "id": "kMNAw7vFTOVf"
      }
    },
    {
      "cell_type": "code",
      "source": [
        "for i in range(3):\n",
        "    print(i, end=\", \") # note how execution starts from 0"
      ],
      "metadata": {
        "colab": {
          "base_uri": "https://localhost:8080/"
        },
        "id": "ObxQIF37TNlx",
        "outputId": "bdd19a3b-3dc2-428b-eab7-d5db1ad074c1"
      },
      "execution_count": null,
      "outputs": [
        {
          "output_type": "stream",
          "name": "stdout",
          "text": [
            "0, 1, 2, "
          ]
        }
      ]
    },
    {
      "cell_type": "markdown",
      "source": [
        "What if I want to print numbers from 5 to 11 skipping even numbers? Consider the below code:"
      ],
      "metadata": {
        "id": "DkVZR9sPVUgY"
      }
    },
    {
      "cell_type": "code",
      "source": [
        "for i in range(5, 12, 2):\n",
        "    print(i, end=\", \")\n",
        "\n",
        "# The first parameter is the initial value, second is when the loop should stop (it will stop one number before it)\n",
        "# and the third is how should the variable be incremented/decremented/changed (this is skippable, python will default to 1)"
      ],
      "metadata": {
        "colab": {
          "base_uri": "https://localhost:8080/"
        },
        "id": "5Alfdb_SVT9g",
        "outputId": "656acaef-6db0-4bed-9a29-53def9531ca8"
      },
      "execution_count": null,
      "outputs": [
        {
          "output_type": "stream",
          "name": "stdout",
          "text": [
            "5, 7, 9, 11, "
          ]
        }
      ]
    },
    {
      "cell_type": "markdown",
      "source": [
        "In Python, if a variable does not have any other significance in our code, we can simply represent this variable as a single underscore _."
      ],
      "metadata": {
        "id": "L9ZUnsPcUc5e"
      }
    },
    {
      "cell_type": "code",
      "source": [
        "for _ in range(3):\n",
        "    print(\"meow\")"
      ],
      "metadata": {
        "colab": {
          "base_uri": "https://localhost:8080/"
        },
        "id": "Hsei-YmsUcLC",
        "outputId": "ec7f9b27-14c7-4a4a-e35b-57af2c2f54d3"
      },
      "execution_count": null,
      "outputs": [
        {
          "output_type": "stream",
          "name": "stdout",
          "text": [
            "meow\n",
            "meow\n",
            "meow\n"
          ]
        }
      ]
    },
    {
      "cell_type": "markdown",
      "source": [
        "To stretch your mind to the possibilities within Python, consider the following code:"
      ],
      "metadata": {
        "id": "649L4MqlUv_0"
      }
    },
    {
      "cell_type": "code",
      "source": [
        "print(\"meow\" * 3)"
      ],
      "metadata": {
        "colab": {
          "base_uri": "https://localhost:8080/"
        },
        "id": "jzSF6sLDUiYv",
        "outputId": "114a1675-629d-461e-e184-ef1e7fba9073"
      },
      "execution_count": null,
      "outputs": [
        {
          "output_type": "stream",
          "name": "stdout",
          "text": [
            "meowmeowmeow\n"
          ]
        }
      ]
    },
    {
      "cell_type": "markdown",
      "source": [
        "**Excerise Time**\n",
        "\n",
        "Notice how the above code will meow three times, but the program will produce meowmeowmeow as the result. Consider: How could you create a line break at the end of each meow?"
      ],
      "metadata": {
        "id": "UnqmDD9SUtwZ"
      }
    },
    {
      "cell_type": "code",
      "source": [
        "# write your code here"
      ],
      "metadata": {
        "id": "Pt_F6fPVVAMq"
      },
      "execution_count": null,
      "outputs": []
    },
    {
      "cell_type": "markdown",
      "source": [
        "## Lists"
      ],
      "metadata": {
        "id": "Kw2qoGjoXyHJ"
      }
    },
    {
      "cell_type": "markdown",
      "source": [
        "You might wonder why we did not use the _ designation as discussed prior. We choose not to do this because student is explicitly used in our code. You can learn more in Python’s documentation of [lists](https://docs.python.org/3/tutorial/datastructures.html#more-on-lists)."
      ],
      "metadata": {
        "id": "aVNVVPFIY7OW"
      }
    },
    {
      "cell_type": "code",
      "source": [
        "students = [\"Hermoine\", \"Harry\", \"Ron\"]\n",
        "\n",
        "for student in students:\n",
        "    print(student)"
      ],
      "metadata": {
        "colab": {
          "base_uri": "https://localhost:8080/"
        },
        "id": "THLFCSx9X27H",
        "outputId": "55f5eeb1-e330-4fa2-957e-89aa5a75712d"
      },
      "execution_count": null,
      "outputs": [
        {
          "output_type": "stream",
          "name": "stdout",
          "text": [
            "Hermoine\n",
            "Harry\n",
            "Ron\n"
          ]
        }
      ]
    },
    {
      "cell_type": "markdown",
      "source": [
        "Notice how executing this code results in not only getting the position of each student plus one using i + 1, but also prints the name of each student. len allows you to dynamically see how long the list of the students is regardless of how much it grows."
      ],
      "metadata": {
        "id": "2hqHVMX_Y2YK"
      }
    },
    {
      "cell_type": "code",
      "source": [
        "students = [\"Hermoine\", \"Harry\", \"Ron\"]\n",
        "\n",
        "for i in range(len(students)):\n",
        "    print(i + 1, students[i])"
      ],
      "metadata": {
        "colab": {
          "base_uri": "https://localhost:8080/"
        },
        "id": "D_4Bvos4YU_C",
        "outputId": "39a8c776-0552-4065-f278-bfff9d672474"
      },
      "execution_count": null,
      "outputs": [
        {
          "output_type": "stream",
          "name": "stdout",
          "text": [
            "1 Hermoine\n",
            "2 Harry\n",
            "3 Ron\n"
          ]
        }
      ]
    },
    {
      "cell_type": "code",
      "source": [
        "# Some inbuilt list functions:\n",
        "\n",
        "my_list = [1, 2, 3]\n",
        "my_list.append(4) # adds 4 to the end of the list\n",
        "print(my_list)\n",
        "print(my_list[1:3]) # prints the second and third element of the list\n",
        "print(my_list[1:]) # prints the second element to the end of the list\n",
        "print(5 in my_list) # checks if 5 is in the list"
      ],
      "metadata": {
        "colab": {
          "base_uri": "https://localhost:8080/"
        },
        "id": "4ZYTNrWKZJLN",
        "outputId": "e6c3c7cc-382e-4ddb-b07f-e5266c49ae4d"
      },
      "execution_count": null,
      "outputs": [
        {
          "output_type": "stream",
          "name": "stdout",
          "text": [
            "[1, 2, 3, 4]\n",
            "[2, 3]\n",
            "[2, 3, 4]\n",
            "False\n"
          ]
        }
      ]
    },
    {
      "cell_type": "markdown",
      "source": [
        "\"List comprehension\" is the idea of writing some code inside of a list that will generate a list."
      ],
      "metadata": {
        "id": "9x9N1qrxnuDa"
      }
    },
    {
      "cell_type": "code",
      "source": [
        "[x ** 2 for x in range(10)]"
      ],
      "metadata": {
        "colab": {
          "base_uri": "https://localhost:8080/"
        },
        "id": "MNX_1dBenut-",
        "outputId": "729fef66-a72f-45f9-cbe5-b1da4a51c9e4"
      },
      "execution_count": null,
      "outputs": [
        {
          "output_type": "execute_result",
          "data": {
            "text/plain": [
              "[0, 1, 4, 9, 16, 25, 36, 49, 64, 81]"
            ]
          },
          "metadata": {},
          "execution_count": 29
        }
      ]
    },
    {
      "cell_type": "markdown",
      "source": [
        "**Exercise Time**\n",
        "\n",
        "- Prepare a list of questions related to personality traits, values, and preferences.\n",
        "- Each question should have multiple answer options.\n",
        "- Example questions:\n",
        "  - What kind of course would you be best in? (Charms, Herbology, Defense Against the Dark Arts, Potions)\n",
        "  - Which animal do you instinctively trust? (Dog, Cat, Owl, Horse)\n",
        "  - Which house spirit would be your friend? (Dobby, Kreacher, Pixies)\n",
        "\n",
        "- Present each question to the user and allow them to input their answer.\n",
        "- Store the answers in a list.\n",
        "- Assign points to each answer based on how it aligns with the characteristics of each Hogwarts house (Gryffindor, Hufflepuff, Ravenclaw, Slytherin).\n",
        "- Calculate the total points for each house.\n",
        "- Find the house with the highest point total.\n",
        "- Print the user's assigned Hogwarts house."
      ],
      "metadata": {
        "id": "wasPBk3gI11l"
      }
    },
    {
      "cell_type": "code",
      "source": [],
      "metadata": {
        "id": "DfJBNeeGJViI"
      },
      "execution_count": 17,
      "outputs": []
    },
    {
      "cell_type": "markdown",
      "source": [
        "## Dictionaries"
      ],
      "metadata": {
        "id": "zOT357PWZxVy"
      }
    },
    {
      "cell_type": "markdown",
      "source": [
        "dicts or dictionaries is a data structure that allows you to associate keys with values.\n",
        "Where a list is a list of multiple values, a dict associates a key with a value."
      ],
      "metadata": {
        "id": "j03rXyabZ2hF"
      }
    },
    {
      "cell_type": "code",
      "source": [
        "students = {\n",
        "    \"Hermoine\": \"Gryffindor\",\n",
        "    \"Harry\": \"Gryffindor\",\n",
        "    \"Ron\": \"Gryffindor\",\n",
        "    \"Draco\": \"Slytherin\",\n",
        "}\n",
        "print(students[\"Hermoine\"])\n",
        "print(students[\"Harry\"])\n",
        "print(students[\"Ron\"])\n",
        "print(students[\"Draco\"])"
      ],
      "metadata": {
        "colab": {
          "base_uri": "https://localhost:8080/"
        },
        "id": "EqytEo4uZMUz",
        "outputId": "50d458b8-bf39-4947-8ca5-d713e227041b"
      },
      "execution_count": null,
      "outputs": [
        {
          "output_type": "stream",
          "name": "stdout",
          "text": [
            "Gryffindor\n",
            "Gryffindor\n",
            "Gryffindor\n",
            "Slytherin\n"
          ]
        }
      ]
    },
    {
      "cell_type": "markdown",
      "source": [
        "Notice how we use {} curly braces to create a dictionary. Where lists use numbers to iterate through the list, dicts allow us to use words."
      ],
      "metadata": {
        "id": "RHX7U3hKaHe-"
      }
    },
    {
      "cell_type": "code",
      "source": [
        "for student in students:\n",
        "    print(student)"
      ],
      "metadata": {
        "colab": {
          "base_uri": "https://localhost:8080/"
        },
        "id": "yORG7VNzZ7bt",
        "outputId": "36c0f9e4-28ae-49f0-c851-05cca5234855"
      },
      "execution_count": null,
      "outputs": [
        {
          "output_type": "stream",
          "name": "stdout",
          "text": [
            "Hermoine\n",
            "Harry\n",
            "Ron\n",
            "Draco\n"
          ]
        }
      ]
    },
    {
      "cell_type": "markdown",
      "source": [
        "Notice how, executing this code, the for loop will only iterate through all the keys, resulting in a list of the names of the students. How could we print out both values and keys?"
      ],
      "metadata": {
        "id": "NEOTjV9QaM8F"
      }
    },
    {
      "cell_type": "code",
      "source": [],
      "metadata": {
        "id": "aQhKkq6EiZj_"
      },
      "execution_count": null,
      "outputs": []
    },
    {
      "cell_type": "code",
      "source": [
        "for student in students:\n",
        "    print(student, students[student], sep=\", \") # sep allows us to alter how different components of a print statement is displayed"
      ],
      "metadata": {
        "colab": {
          "base_uri": "https://localhost:8080/"
        },
        "id": "SiYROj6ZaPUm",
        "outputId": "22891b6e-74ff-46ba-f10c-c49b3071754d"
      },
      "execution_count": null,
      "outputs": [
        {
          "output_type": "stream",
          "name": "stdout",
          "text": [
            "Hermoine, Gryffindor\n",
            "Harry, Gryffindor\n",
            "Ron, Gryffindor\n",
            "Draco, Slytherin\n"
          ]
        }
      ]
    },
    {
      "cell_type": "markdown",
      "source": [
        "You can imagine wanting to have lots of data associated with multiple keys."
      ],
      "metadata": {
        "id": "01WVplY0arpa"
      }
    },
    {
      "cell_type": "code",
      "source": [
        "students = [\n",
        "    {\"name\": \"Hermoine\", \"house\": \"Gryffindor\", \"patronus\": \"Otter\"},\n",
        "    {\"name\": \"Harry\", \"house\": \"Gryffindor\", \"patronus\": \"Stag\"},\n",
        "    {\"name\": \"Ron\", \"house\": \"Gryffindor\", \"patronus\": \"Jack Russell terrier\"},\n",
        "    {\"name\": \"Draco\", \"house\": \"Slytherin\", \"patronus\": None},\n",
        "]"
      ],
      "metadata": {
        "id": "FE36OkLSarEy"
      },
      "execution_count": null,
      "outputs": []
    },
    {
      "cell_type": "markdown",
      "source": [
        "Notice how the for loop will iterate through each of the dicts inside the list called students.\n",
        "\n",
        "You can learn more in Python’s Documentation of [dicts](https://docs.python.org/3/tutorial/datastructures.html#dictionaries)."
      ],
      "metadata": {
        "id": "dY5WEKBJa0CZ"
      }
    },
    {
      "cell_type": "code",
      "source": [
        "for student in students:\n",
        "    print(student[\"name\"], student[\"house\"], student[\"patronus\"], sep=\", \")"
      ],
      "metadata": {
        "colab": {
          "base_uri": "https://localhost:8080/"
        },
        "id": "nk_KE-CBav1v",
        "outputId": "6e021d4d-afcb-4bec-e0ec-83e31e1bf8c4"
      },
      "execution_count": null,
      "outputs": [
        {
          "output_type": "stream",
          "name": "stdout",
          "text": [
            "Hermoine, Gryffindor, Otter\n",
            "Harry, Gryffindor, Stag\n",
            "Ron, Gryffindor, Jack Russell terrier\n",
            "Draco, Slytherin, None\n"
          ]
        }
      ]
    },
    {
      "cell_type": "markdown",
      "source": [
        "What if I want to access only the keys or only the values of the dictionary? We can do the following."
      ],
      "metadata": {
        "id": "9HtjTO7sbLNw"
      }
    },
    {
      "cell_type": "code",
      "source": [
        "print(\"Keys: \")\n",
        "for i in students[0].keys():\n",
        "    print(f\"\\t{i}\")\n",
        "print(\"Values: \")\n",
        "for i in students[0].values():\n",
        "    print(f\"\\t{i}\")\n",
        "print(\"Items: \")\n",
        "for i in students[0].items():\n",
        "    print(f\"\\t{i}\")"
      ],
      "metadata": {
        "colab": {
          "base_uri": "https://localhost:8080/"
        },
        "id": "6xYfGgqKbJfx",
        "outputId": "ecde3745-0b47-4485-a211-e7e5e2196c8b"
      },
      "execution_count": null,
      "outputs": [
        {
          "output_type": "stream",
          "name": "stdout",
          "text": [
            "Keys: \n",
            "\tname\n",
            "\thouse\n",
            "\tpatronus\n",
            "Values: \n",
            "\tHermoine\n",
            "\tGryffindor\n",
            "\tOtter\n",
            "Items: \n",
            "\t('name', 'Hermoine')\n",
            "\t('house', 'Gryffindor')\n",
            "\t('patronus', 'Otter')\n"
          ]
        }
      ]
    },
    {
      "cell_type": "markdown",
      "source": [
        "**Exercise Time**\n",
        "- Create a dictionary to represent a Harry Potter character's inventory.\n",
        "- Use item names as keys and quantities as values. (Such as: \"Gold Galleons\": 100, \"Silver Sickles\": 500, \"Bronze Knuts\": 2000, \"Potion Bottles\": 5).\n",
        "- Allow the user to add or remove items from the inventory.\n",
        "- Update the quantity accordingly.\n",
        "- Assign values to each type of currency (e.g., 1 Galleon = 29 Sickles, 1 Sickle = 29 Knuts).\n",
        "- Calculate the total worth of the inventory in Galleons.\n",
        "- Print the contents of the inventory in a formatted manner."
      ],
      "metadata": {
        "id": "o08LB_nRJy_d"
      }
    },
    {
      "cell_type": "code",
      "source": [
        "# write your code here\n",
        "inventory={\"Gold Galleons\": 100, \"Silver Sickles\": 500, \"Bronze Knuts\": 2000, \"Potion Bottles\": 5}\n",
        "sickles_to_gallons=1/29\n",
        "knuts_to_gallons=1/29*29\n",
        "def addItem(item,quantity) :\n",
        "  if item in inventory:\n",
        "    inventory[item]+=quantity\n",
        "  else:\n",
        "    inventory[item]=quantity\n",
        "def deleteItem(item,quantity):\n",
        "  if item not in inventory:\n",
        "    print(\"item not in inventory\")\n",
        "  elif inventory[item]<quantity:\n",
        "    print(\"not enough quantity available\")\n",
        "  else:\n",
        "    inventory[item]-=quantity\n",
        "def totalWorth(inventory):\n",
        "  total=inventory[\"Gold Galleons\"]+inventory[\"Silver Sickles\"]*sickles_to_gallons+inventory[\"Bronze Knuts\"]*knuts_to_gallons\n",
        "  print(f\"TOTAL IS {total:.2f} GALLONS\")\n",
        "\n",
        "while True:\n",
        "    print(\"\\nInventory Management:\")\n",
        "    print(\"1. Add Items\")\n",
        "    print(\"2. Remove Items\")\n",
        "    print(\"3. View Inventory\")\n",
        "    print(\"4. Calculate Total Worth\")\n",
        "    print(\"5. Exit\")\n",
        "    choice = int(input(\"Enter your choice: \"))\n",
        "    if choice==1:\n",
        "      item=input(\"Enter the item key\")\n",
        "      quantity=int(input(\"Enter the item key\"))\n",
        "      addItem(item,quantity)\n",
        "    elif choice==2:\n",
        "      item=input(\"Enter the item key\")\n",
        "      quantity=int(input(\"Enter the item key\"))\n",
        "      deleteItem(item,quantity)\n",
        "    elif choice==3:\n",
        "      print(\"INVENTORY\")\n",
        "      for item in inventory.items():\n",
        "            print(item,end=\"\\t\")\n",
        "    elif choice==4:\n",
        "      totalWorth(inventory)\n",
        "    elif choice==5:\n",
        "      print(\"EXITING...\")\n",
        "      break\n",
        "    else:\n",
        "      print(\"Invalid choice\")"
      ],
      "metadata": {
        "id": "e5kW3LaPKKsv",
        "colab": {
          "base_uri": "https://localhost:8080/"
        },
        "outputId": "6030321a-7a91-453b-af84-5746ff1bbbf2"
      },
      "execution_count": null,
      "outputs": [
        {
          "output_type": "stream",
          "name": "stdout",
          "text": [
            "\n",
            "Inventory Management:\n",
            "1. Add Items\n",
            "2. Remove Items\n",
            "3. View Inventory\n",
            "4. Calculate Total Worth\n",
            "5. Exit\n",
            "Enter your choice: 4\n",
            "TOTAL IS 2117.24 GALLONS\n",
            "\n",
            "Inventory Management:\n",
            "1. Add Items\n",
            "2. Remove Items\n",
            "3. View Inventory\n",
            "4. Calculate Total Worth\n",
            "5. Exit\n",
            "Enter your choice: 5\n",
            "EXITING...\n"
          ]
        }
      ]
    },
    {
      "cell_type": "markdown",
      "source": [
        "## Other Data Types"
      ],
      "metadata": {
        "id": "H_rnw_40cDsk"
      }
    },
    {
      "cell_type": "markdown",
      "source": [
        "Tuples are ordered, immutable collections of elements. They are defined using parentheses ()."
      ],
      "metadata": {
        "id": "EtCbJ8xCkGKH"
      }
    },
    {
      "cell_type": "code",
      "source": [
        "my_tuple = (1, 2, \"apple\", True)\n",
        "print(my_tuple)\n",
        "my_tuple\n",
        "# try changing the length of the tuple or value of any element in the tuple"
      ],
      "metadata": {
        "colab": {
          "base_uri": "https://localhost:8080/"
        },
        "id": "t5kdNQHUkIbL",
        "outputId": "6e06a92a-a668-45a3-b339-8fbef3fac7ab"
      },
      "execution_count": null,
      "outputs": [
        {
          "output_type": "stream",
          "name": "stdout",
          "text": [
            "(1, 2, 'apple', True)\n"
          ]
        },
        {
          "output_type": "execute_result",
          "data": {
            "text/plain": [
              "(1, 2, 'apple', True)"
            ]
          },
          "metadata": {},
          "execution_count": 9
        }
      ]
    },
    {
      "cell_type": "markdown",
      "source": [
        "Sets are unordered collections of unique elements. They are defined using curly braces {}. Sets are mutable."
      ],
      "metadata": {
        "id": "IbRqEFb0kji9"
      }
    },
    {
      "cell_type": "code",
      "source": [
        "my_set = set()\n",
        "my_set.add(1)\n",
        "my_set.add(2)\n",
        "my_set.add(3)\n",
        "my_set.add(2) # won't add duplicate\n",
        "print(my_set)\n",
        "another_set = {3,4,5}\n",
        "print(my_set.intersection(another_set))\n",
        "print(my_set.union(another_set))\n",
        "print(my_set.difference(another_set))"
      ],
      "metadata": {
        "colab": {
          "base_uri": "https://localhost:8080/"
        },
        "id": "9hNnTNd5kZC9",
        "outputId": "25ba5a56-0ad7-43c9-8630-d82d797559e7"
      },
      "execution_count": null,
      "outputs": [
        {
          "output_type": "stream",
          "name": "stdout",
          "text": [
            "{1, 2, 3}\n",
            "{3}\n",
            "{1, 2, 3, 4, 5}\n",
            "{1, 2}\n"
          ]
        }
      ]
    },
    {
      "cell_type": "markdown",
      "source": [
        "Frozensets are immutable versions of sets. They are defined using the frozenset() constructor."
      ],
      "metadata": {
        "id": "Hi4RWSdCk3rQ"
      }
    },
    {
      "cell_type": "code",
      "source": [
        "my_frozenset = frozenset([1, 2, 3, \"apple\"])\n",
        "print(my_frozenset)\n",
        "# try changing it in any manner"
      ],
      "metadata": {
        "id": "03RkH6xQk52s",
        "colab": {
          "base_uri": "https://localhost:8080/"
        },
        "outputId": "eb17ed86-cb6b-440d-f5ca-0f4d83b6c880"
      },
      "execution_count": null,
      "outputs": [
        {
          "output_type": "stream",
          "name": "stdout",
          "text": [
            "frozenset({1, 2, 3, 'apple'})\n"
          ]
        }
      ]
    },
    {
      "cell_type": "markdown",
      "source": [
        "## Functions"
      ],
      "metadata": {
        "id": "Cxwpc2u4cI9y"
      }
    },
    {
      "cell_type": "markdown",
      "source": [
        "One great thing about python is no need to define any access specifiers or any other technical jargon while creating our own functions. Just use 'def' and be done with it!"
      ],
      "metadata": {
        "id": "srIvr421cij7"
      }
    },
    {
      "cell_type": "code",
      "source": [
        "def hello(to=\"world\"): # default parameter implementation done here\n",
        "    print(\"hello,\", to)\n",
        "hello(\"hagrid\")\n",
        "hello()"
      ],
      "metadata": {
        "colab": {
          "base_uri": "https://localhost:8080/"
        },
        "id": "yyoi-F2CcMOY",
        "outputId": "a369e7ce-3fcd-435b-a234-726db5a2b6b4"
      },
      "execution_count": null,
      "outputs": [
        {
          "output_type": "stream",
          "name": "stdout",
          "text": [
            "hello, hagrid\n",
            "hello, world\n"
          ]
        }
      ]
    },
    {
      "cell_type": "code",
      "source": [
        "# returning values is the same as before\n",
        "def main():\n",
        "    x = int(input(\"What's x? \"))\n",
        "    print(\"x squared is\", square(x))\n",
        "\n",
        "def square(n):\n",
        "    return n * n\n",
        "\n",
        "main()"
      ],
      "metadata": {
        "colab": {
          "base_uri": "https://localhost:8080/"
        },
        "id": "5P-SQ_Cyc9Hh",
        "outputId": "9cbd0074-ba69-49dd-ce29-be9cdeca5b7f"
      },
      "execution_count": null,
      "outputs": [
        {
          "output_type": "stream",
          "name": "stdout",
          "text": [
            "What's x? 7\n",
            "x squared is 49\n"
          ]
        }
      ]
    },
    {
      "cell_type": "markdown",
      "source": [
        "**Excerise time**\n",
        "\n",
        "Try to implement the following pattern:\n",
        "\n",
        "A\n",
        "\n",
        "BC\n",
        "\n",
        "DEF\n",
        "\n",
        "GHIJ\n",
        "\n",
        "KLMNO"
      ],
      "metadata": {
        "id": "TcO4hkjWdiF6"
      }
    },
    {
      "cell_type": "code",
      "source": [
        "counter = 64\n",
        "for i in range(1, 6):\n",
        "    for j in range(1, i+1):\n",
        "        counter += 1\n",
        "        print(chr(counter), end=\" \")\n",
        "    print()\n"
      ],
      "metadata": {
        "id": "vR4tO3uLdVWf",
        "colab": {
          "base_uri": "https://localhost:8080/"
        },
        "outputId": "7f9e8e14-c2de-435f-94ea-d875242828c7"
      },
      "execution_count": null,
      "outputs": [
        {
          "output_type": "stream",
          "name": "stdout",
          "text": [
            "A \n",
            "B C \n",
            "D E F \n",
            "G H I J \n",
            "K L M N O \n"
          ]
        }
      ]
    },
    {
      "cell_type": "markdown",
      "source": [
        "## Important inbuilt functions"
      ],
      "metadata": {
        "id": "emAemZC3d9Zf"
      }
    },
    {
      "cell_type": "markdown",
      "source": [
        "Lambda is used to create small, anonymous functions. This is important concept in the functional programming paradigm in python. See this [link](https://realpython.com/python-functional-programming/) if feeling comfortable and curious!"
      ],
      "metadata": {
        "id": "z_-Kf65bfI-C"
      }
    },
    {
      "cell_type": "code",
      "source": [
        "square = lambda x: x ** 2\n",
        "print(square(5))"
      ],
      "metadata": {
        "colab": {
          "base_uri": "https://localhost:8080/"
        },
        "id": "yifn-TUaetaI",
        "outputId": "bcf72c59-e957-46d1-ad88-b47177e63e6d"
      },
      "execution_count": null,
      "outputs": [
        {
          "output_type": "stream",
          "name": "stdout",
          "text": [
            "25\n"
          ]
        }
      ]
    },
    {
      "cell_type": "markdown",
      "source": [
        "Map applies a given function to each item of an iterable, returning a new iterable with the results."
      ],
      "metadata": {
        "id": "a5h9Y48jgsx7"
      }
    },
    {
      "cell_type": "code",
      "source": [
        "numbers = [1, 2, 3, 4, 5]\n",
        "squared_numbers = list(map(lambda x: x ** 2, numbers))\n",
        "print(squared_numbers)\n"
      ],
      "metadata": {
        "colab": {
          "base_uri": "https://localhost:8080/"
        },
        "id": "mnZm9dpjfg3S",
        "outputId": "9550eaf5-3c78-4b3f-a459-f43684a31645"
      },
      "execution_count": null,
      "outputs": [
        {
          "output_type": "stream",
          "name": "stdout",
          "text": [
            "<map object at 0x7ac7592e97b0>\n"
          ]
        }
      ]
    },
    {
      "cell_type": "markdown",
      "source": [
        "Filter creates a new iterable with items from the original that satisfy a given condition."
      ],
      "metadata": {
        "id": "qIxBKzkjiRO3"
      }
    },
    {
      "cell_type": "code",
      "source": [
        "even_numbers = list(filter(lambda x: x % 2 != 0, numbers))\n",
        "print(even_numbers)"
      ],
      "metadata": {
        "colab": {
          "base_uri": "https://localhost:8080/"
        },
        "id": "owgE--UGiTjS",
        "outputId": "97e0a75b-f7fc-4b4f-cab5-ea21cf826e35"
      },
      "execution_count": null,
      "outputs": [
        {
          "output_type": "stream",
          "name": "stdout",
          "text": [
            "[1, 3, 5]\n"
          ]
        }
      ]
    },
    {
      "cell_type": "markdown",
      "source": [
        "Reduce cumulatively applies a function to the items of an iterable, reducing it to a single value."
      ],
      "metadata": {
        "id": "dThe6F8qiI4g"
      }
    },
    {
      "cell_type": "code",
      "source": [
        "from functools import reduce\n",
        "product = reduce(lambda x, y: x * y, numbers)\n",
        "print(product)"
      ],
      "metadata": {
        "colab": {
          "base_uri": "https://localhost:8080/"
        },
        "id": "uh2J1xr8iLsX",
        "outputId": "9f985513-f40f-4ee4-ec7e-65febaa56b05"
      },
      "execution_count": null,
      "outputs": [
        {
          "output_type": "stream",
          "name": "stdout",
          "text": [
            "120\n"
          ]
        }
      ]
    },
    {
      "cell_type": "markdown",
      "source": [
        "Python's math module provides a comprehensive set of mathematical functions, including:\n",
        "\n",
        "Basic arithmetic: abs(), ceil(), floor(), max(), min(), pow(), round(), sqrt()\n",
        "\n",
        "Trigonometric functions: sin(), cos(), tan(), asin(), acos(), atan(), degrees(), radians()\n",
        "\n",
        "Logarithmic and exponential functions: log(), log10(), exp()\n",
        "\n",
        "Number-theoretic functions: factorial(), gcd(), fmod()"
      ],
      "metadata": {
        "id": "9orkBAciidR5"
      }
    },
    {
      "cell_type": "code",
      "source": [
        "x = -5\n",
        "absolute_value = abs(x)\n",
        "print(absolute_value)"
      ],
      "metadata": {
        "colab": {
          "base_uri": "https://localhost:8080/"
        },
        "id": "b8ARCEsJicwX",
        "outputId": "95c3cea7-3d28-45e3-e00e-6526ab5ae672"
      },
      "execution_count": null,
      "outputs": [
        {
          "output_type": "stream",
          "name": "stdout",
          "text": [
            "5\n"
          ]
        }
      ]
    },
    {
      "cell_type": "code",
      "source": [
        "import math\n",
        "number = 3.14159\n",
        "rounded_down = math.floor(number)\n",
        "rounded_up = math.ceil(number)\n",
        "print(rounded_down, rounded_up)\n",
        "x = 24\n",
        "y = 36\n",
        "gcd_value = math.gcd(x, y)\n",
        "print(gcd_value)"
      ],
      "metadata": {
        "colab": {
          "base_uri": "https://localhost:8080/"
        },
        "id": "vPzizSSLjS5Z",
        "outputId": "61b5b0d5-213a-4237-c394-587e60a09a90"
      },
      "execution_count": null,
      "outputs": [
        {
          "output_type": "stream",
          "name": "stdout",
          "text": [
            "3 4\n",
            "12\n"
          ]
        }
      ]
    },
    {
      "cell_type": "markdown",
      "source": [
        "**Exercise Time**\n",
        "\n",
        "- Define a dictionary for each Avenger containing attributes like name,\n",
        "superpower, strength, intelligence, and speed.\n",
        "- Store these dictionaries in a list.\n",
        "- Use filter or list comprehension to select Avengers based on specific criteria (e.g., strength greater than 4).\n",
        "- Create a new list to represent the assembled team.\n",
        "- Calculate the average strength, intelligence, and speed of the team using reduce.\n",
        "- Find the strongest, smartest, and fastest Avenger on the team.\n",
        "- Create a function that suggests a mission based on the team's overall attributes.\n",
        "- For example, a team with high intelligence might be suggested for a tactical mission."
      ],
      "metadata": {
        "id": "H9B5QQ4MP6sL"
      }
    },
    {
      "cell_type": "code",
      "source": [
        "# write your code here\n",
        "avengers = []\n",
        "iron_man = {\n",
        "    \"name\": \"Iron Man\",\n",
        "    \"superpower\": \"Powered Armor\",\n",
        "    \"strength\": 85,\n",
        "    \"intelligence\": 100,\n",
        "    \"speed\": 70\n",
        "}\n",
        "captain_america = {\n",
        "    \"name\": \"Captain America\",\n",
        "    \"superpower\": \"Super Soldier Serum\",\n",
        "    \"strength\": 75,\n",
        "    \"intelligence\": 70,\n",
        "    \"speed\": 65\n",
        "}\n",
        "thor = {\n",
        "    \"name\": \"Thor\",\n",
        "    \"superpower\": \"God of Thunder\",\n",
        "    \"strength\": 95,\n",
        "    \"intelligence\": 60,\n",
        "    \"speed\": 80\n",
        "}\n",
        "hulk = {\n",
        "    \"name\": \"Hulk\",\n",
        "    \"superpower\": \"Super Strength\",\n",
        "    \"strength\": 100,\n",
        "    \"intelligence\": 55,\n",
        "    \"speed\": 50\n",
        "}\n",
        "avengers.append(iron_man)\n",
        "avengers.append(captain_america)\n",
        "avengers.append(thor)\n",
        "avengers.append(hulk)\n",
        "\n",
        "strong_avengers = [avenger for avenger in avengers if avenger['strength'] > 80]\n",
        "print(\"Strong Avengers:\")\n",
        "for avenger in strong_avengers:\n",
        "    print(avenger)\n",
        "from functools import reduce\n",
        "tstrength = reduce(lambda acc,avenger: acc+avenger[\"strength\"],strong_avengers,0)\n",
        "tintelligence = reduce(lambda acc,avenger: acc+avenger[\"intelligence\"],strong_avengers,0)\n",
        "tspeed = reduce(lambda acc,avenger: acc+avenger[\"speed\"],strong_avengers,0)\n",
        "astrength=tstrength /len(strong_avengers)\n",
        "aintelligence=tintelligence /len(strong_avengers)\n",
        "aspeed=tspeed /len(strong_avengers)\n",
        "print(f\"Average Strength: {astrength:.2f}\")\n",
        "print(f\"Average Intelligence: {aintelligence:.2f}\")\n",
        "print(f\"Average Speed: {aspeed:.2f}\")\n",
        "strongest=max(strong_avengers,key=lambda avenger:avenger[\"strength\"])\n",
        "most_intelligent=max(strong_avengers,key=lambda avenger:avenger[\"intelligence\"])\n",
        "fastest=max(strong_avengers,key=lambda avenger:avenger[\"speed\"])\n",
        "print(f\"fastest avenger: {fastest}\\nstrongest avenger: {strongest}\\nmost intelligent avenger: {most_intelligent}\")\n",
        "def mission(astrength,aintelligence,aspeed):\n",
        "  if astrength> aintelligence and astrength> aspeed:\n",
        "    print(\"powerful mission\")\n",
        "  elif aintelligence>astrength and aintelligence>aspeed:\n",
        "    print(\"tactical mission\")\n",
        "  elif(aspeed>aintelligence and aspeed>astrength):\n",
        "    print(\"fast mission\")\n",
        "  else:\n",
        "    print(\"team suitable for any mission\")\n",
        "mission(astrength,aintelligence,aspeed)"
      ],
      "metadata": {
        "id": "GzJYdlIIQQ2R",
        "colab": {
          "base_uri": "https://localhost:8080/"
        },
        "outputId": "00ceeca2-a57e-426c-a177-0cb832e9cb08"
      },
      "execution_count": null,
      "outputs": [
        {
          "output_type": "stream",
          "name": "stdout",
          "text": [
            "Strong Avengers:\n",
            "{'name': 'Iron Man', 'superpower': 'Powered Armor', 'strength': 85, 'intelligence': 100, 'speed': 70}\n",
            "{'name': 'Thor', 'superpower': 'God of Thunder', 'strength': 95, 'intelligence': 60, 'speed': 80}\n",
            "{'name': 'Hulk', 'superpower': 'Super Strength', 'strength': 100, 'intelligence': 55, 'speed': 50}\n",
            "Average Strength: 93.33\n",
            "Average Intelligence: 71.67\n",
            "Average Speed: 66.67\n",
            "fastest avenger: {'name': 'Thor', 'superpower': 'God of Thunder', 'strength': 95, 'intelligence': 60, 'speed': 80}\n",
            "strongest avenger: {'name': 'Hulk', 'superpower': 'Super Strength', 'strength': 100, 'intelligence': 55, 'speed': 50}\n",
            "most intelligent avenger: {'name': 'Iron Man', 'superpower': 'Powered Armor', 'strength': 85, 'intelligence': 100, 'speed': 70}\n",
            "powerful mission\n"
          ]
        }
      ]
    },
    {
      "cell_type": "markdown",
      "source": [
        "## Exceptions"
      ],
      "metadata": {
        "id": "Byu7Tzg0QSmI"
      }
    },
    {
      "cell_type": "markdown",
      "source": [
        "Exceptions are things that go wrong within our coding. You can learn more in Python’s documentation of [Errors and Exceptions](https://docs.python.org/3/tutorial/errors.html).\n",
        "\n",
        "\n",
        "In Python try and except are ways of testing out user input before something goes wrong. Try giving 'cat' as input."
      ],
      "metadata": {
        "id": "6sld1ZtrQ2Le"
      }
    },
    {
      "cell_type": "code",
      "source": [
        "try:\n",
        "    x = int(input(\"What's x? \"))\n",
        "    print(f\"x is {x}\")\n",
        "except ValueError:\n",
        "    print(\"x is not an integer\")"
      ],
      "metadata": {
        "colab": {
          "base_uri": "https://localhost:8080/"
        },
        "id": "Oo7fhBMQQfv7",
        "outputId": "6dda100b-02a9-4891-9429-4cc50a635297"
      },
      "execution_count": null,
      "outputs": [
        {
          "output_type": "stream",
          "name": "stdout",
          "text": [
            "What's x? hfhfhhf\n",
            "x is not an integer\n"
          ]
        }
      ]
    },
    {
      "cell_type": "markdown",
      "source": [
        "This is still not the best way to implement this code.\n",
        "Notice that we are trying to do two lines of code. For best practice, we should only try the fewest lines of code possible that we are concerned could fail. Adjust your code as follows:"
      ],
      "metadata": {
        "id": "-5rbcYu0RowT"
      }
    },
    {
      "cell_type": "code",
      "source": [
        "try:\n",
        "    x = int(input(\"What's x? \"))\n",
        "except ValueError:\n",
        "    print(\"x is not an integer\")\n",
        "print(f\"x is {x}\")"
      ],
      "metadata": {
        "colab": {
          "base_uri": "https://localhost:8080/",
          "height": 211
        },
        "id": "FMa5N9u6RakE",
        "outputId": "f8825008-2638-41f8-aec7-c576c895ff2d"
      },
      "execution_count": null,
      "outputs": [
        {
          "output_type": "stream",
          "name": "stdout",
          "text": [
            "What's x? f\n",
            "x is not an integer\n"
          ]
        },
        {
          "output_type": "error",
          "ename": "NameError",
          "evalue": "name 'x' is not defined",
          "traceback": [
            "\u001b[0;31m---------------------------------------------------------------------------\u001b[0m",
            "\u001b[0;31mNameError\u001b[0m                                 Traceback (most recent call last)",
            "\u001b[0;32m<ipython-input-7-20bdd5a687e0>\u001b[0m in \u001b[0;36m<cell line: 5>\u001b[0;34m()\u001b[0m\n\u001b[1;32m      3\u001b[0m \u001b[0;32mexcept\u001b[0m \u001b[0mValueError\u001b[0m\u001b[0;34m:\u001b[0m\u001b[0;34m\u001b[0m\u001b[0;34m\u001b[0m\u001b[0m\n\u001b[1;32m      4\u001b[0m     \u001b[0mprint\u001b[0m\u001b[0;34m(\u001b[0m\u001b[0;34m\"x is not an integer\"\u001b[0m\u001b[0;34m)\u001b[0m\u001b[0;34m\u001b[0m\u001b[0;34m\u001b[0m\u001b[0m\n\u001b[0;32m----> 5\u001b[0;31m \u001b[0mprint\u001b[0m\u001b[0;34m(\u001b[0m\u001b[0;34mf\"x is {x}\"\u001b[0m\u001b[0;34m)\u001b[0m\u001b[0;34m\u001b[0m\u001b[0;34m\u001b[0m\u001b[0m\n\u001b[0m",
            "\u001b[0;31mNameError\u001b[0m: name 'x' is not defined"
          ]
        }
      ]
    },
    {
      "cell_type": "markdown",
      "source": [
        "Notice that while this accomplishes our goal of trying as few lines as possible, we now face a new error! We face a NameError where x is not defined (to _undefine_ x, run `del x`). Look at this code and consider: Why is x not defined in some cases?\n",
        "\n",
        "It turns out that there is another way to implement try that could catch errors of this nature. Adjust your code as follows:"
      ],
      "metadata": {
        "id": "JmmfKqQmVKCG"
      }
    },
    {
      "cell_type": "code",
      "source": [
        "try:\n",
        "    x = int(input(\"What's x?\"))\n",
        "except ValueError:\n",
        "    print(\"x is not an integer\")\n",
        "else:\n",
        "    print(f\"x is {x}\")"
      ],
      "metadata": {
        "colab": {
          "base_uri": "https://localhost:8080/"
        },
        "id": "ooOnY8V2VSMf",
        "outputId": "c0ae2cee-f043-4ec7-c462-0fa06663b57a"
      },
      "execution_count": null,
      "outputs": [
        {
          "output_type": "stream",
          "name": "stdout",
          "text": [
            "What's x?55\n",
            "x is 55\n"
          ]
        }
      ]
    },
    {
      "cell_type": "markdown",
      "source": [
        "## Regular Expression"
      ],
      "metadata": {
        "id": "V4loeV3FWKOx"
      }
    },
    {
      "cell_type": "markdown",
      "source": [
        "It turns out that Python has an existing library called re that has a number of built-in functions that can validate user inputs against patterns.\n",
        "One of the most versatile functions within the library re is search.\n",
        "The search library follows the signature re.search(pattern, string, flags=0)."
      ],
      "metadata": {
        "id": "WKeZR_3JWRIm"
      }
    },
    {
      "cell_type": "code",
      "source": [
        "import re\n",
        "\n",
        "email = input(\"What's your email? \")\n",
        "\n",
        "if re.search(\"xyz\", email):\n",
        "    print(\"Valid\")\n",
        "else:\n",
        "    print(\"Invalid\")"
      ],
      "metadata": {
        "colab": {
          "base_uri": "https://localhost:8080/"
        },
        "id": "QaAVm-Z6WMck",
        "outputId": "8b689ac5-4c6c-4907-f31e-95a6f00c014b"
      },
      "execution_count": null,
      "outputs": [
        {
          "output_type": "stream",
          "name": "stdout",
          "text": [
            "What's your email? username@mail.com\n",
            "Invalid\n"
          ]
        }
      ]
    },
    {
      "cell_type": "markdown",
      "source": [
        "We can further our program’s functionality. However, we need to advance our vocabulary around validation. It turns out that in the world of regular expressions there are certain symbols that allow us to identify patterns. At this point, we have only been checking for specific pieces of text like @. It so happens that many special symbols can be passed to the compiler for the purpose of engaging in validation. A non-exhaustive list of those patterns is as follows:`\n",
        "\n",
        "\n",
        ".   any character except a new line\n",
        "\n",
        "\\*   0 or more repetitions\n",
        "\n",
        "\\+   1 or more repetitions\n",
        "\n",
        "?   0 or 1 repetition\n",
        "\n",
        "{m} m repetitions\n",
        "\n",
        "{m,n} m-n repetitions"
      ],
      "metadata": {
        "id": "u5cDIP3_WXIC"
      }
    },
    {
      "cell_type": "code",
      "source": [
        "import re\n",
        "\n",
        "email = input(\"What's your email? \").strip()\n",
        "\n",
        "if re.search(r\".+@.+\\.com\", email):\n",
        "    print(\"Valid\")\n",
        "else:\n",
        "    print(\"Invalid\")\n",
        "\n",
        "# Notice how we utilize the “escape character” or \\ as a way of regarding the . as part of our string instead of our validation expression.\n",
        "# Testing your code, you will notice that username@mail.com is regarded as valid, where username@mail?com is invalid."
      ],
      "metadata": {
        "colab": {
          "base_uri": "https://localhost:8080/"
        },
        "id": "OHHfSw9VWWeC",
        "outputId": "48cb1c35-4201-4248-bc85-409b21f6187b"
      },
      "execution_count": null,
      "outputs": [
        {
          "output_type": "stream",
          "name": "stdout",
          "text": [
            "What's your email? username@mail.com\n",
            "Valid\n"
          ]
        }
      ]
    },
    {
      "cell_type": "markdown",
      "source": [
        "This is a good time to introduce “raw strings”. In Python, raw strings are strings that don’t format special characters—instead, each character is taken at face-value. Imagine \\n, for example. We’ve seen in an earlier lecture how, in a regular string, these two characters become one: a special newline character. In a raw string, however, \\n is treated not as \\n, the special character, but as a single \\ and a single n. Placing an r in front of a string tells the Python interpreter to treat the string as a raw string, similar to how placing an f in front of a string tells the Python interpreter to treat the string as a format string:"
      ],
      "metadata": {
        "id": "DVBrvD4RXBHD"
      }
    },
    {
      "cell_type": "code",
      "source": [
        "import re\n",
        "\n",
        "email = input(\"What's your email? \").strip()\n",
        "\n",
        "if re.search(r\"^.+@.+\\.com$\", email):\n",
        "    print(\"Valid\")\n",
        "else:\n",
        "    print(\"Invalid\")"
      ],
      "metadata": {
        "colab": {
          "base_uri": "https://localhost:8080/"
        },
        "id": "w0-0zTqiX0TB",
        "outputId": "82b6e350-7b97-48e3-9ccf-8ea5990f01df"
      },
      "execution_count": null,
      "outputs": [
        {
          "output_type": "stream",
          "name": "stdout",
          "text": [
            "What's your email? malan@harvard.edu.\n",
            "Invalid\n"
          ]
        }
      ]
    },
    {
      "cell_type": "markdown",
      "source": [
        "You could type in a sentence such as My email address is malan@harvard.edu. and this whole sentence would be considered valid. We can be even more precise in our coding.\n",
        "It just so happens we have more special symbols at our disposal in validation:\n",
        "\n",
        "^   matches the start of the string\n",
        "\n",
        "$   matches the end of the string or just before the newline at the end of the string"
      ],
      "metadata": {
        "id": "9aMuULBFX_F3"
      }
    },
    {
      "cell_type": "markdown",
      "source": [
        "Recall that within the re.search function, there is a parameter for flags.\n",
        "Some built-in flag variables are:\n",
        "\n",
        "re.IGNORECASE\n",
        "\n",
        "re.MULTILINE\n",
        "\n",
        "re.DOTALL"
      ],
      "metadata": {
        "id": "wTzzyw7tYSn6"
      }
    },
    {
      "cell_type": "code",
      "source": [
        "import re\n",
        "\n",
        "email = input(\"What's your email? \").strip()\n",
        "\n",
        "if re.search(r\"^\\w+@\\w+\\.com$\", email, re.MULTILINE):\n",
        "    print(\"Valid\")\n",
        "else:\n",
        "    print(\"Invalid\")"
      ],
      "metadata": {
        "colab": {
          "base_uri": "https://localhost:8080/"
        },
        "id": "LxXqtAjtYTde",
        "outputId": "94d739ab-00ea-4ded-c6e5-0026c2456539"
      },
      "execution_count": null,
      "outputs": [
        {
          "output_type": "stream",
          "name": "stdout",
          "text": [
            "What's your email? abc\\n@gmail.com\n",
            "Invalid\n"
          ]
        }
      ]
    },
    {
      "cell_type": "markdown",
      "source": [
        "For a quick guide to Regex, refer [this](https://support.google.com/a/answer/1371415)."
      ],
      "metadata": {
        "id": "yEEulZla-X71"
      }
    },
    {
      "cell_type": "markdown",
      "source": [
        "## OOPS"
      ],
      "metadata": {
        "id": "xgZNB4SSYhyN"
      }
    },
    {
      "cell_type": "markdown",
      "source": [
        "Classes are a way by which, in object-oriented programming, we can create our own type of data and give them names.\n",
        "\n",
        "A class is like a mold for a type of data – where we can invent our own data type and give them a name."
      ],
      "metadata": {
        "id": "1_THo49Cn7Mr"
      }
    },
    {
      "cell_type": "code",
      "source": [
        "class Student:\n",
        "    ...\n",
        "\n",
        "\n",
        "def main():\n",
        "    student = get_student()\n",
        "    print(f\"{student.name} from {student.house} house\")\n",
        "\n",
        "\n",
        "def get_student():\n",
        "    student = Student()\n",
        "    student.name = input(\"Name: \")\n",
        "    student.house = input(\"House: \")\n",
        "    return student\n",
        "\n",
        "\n",
        "if __name__ == \"__main__\": # this allows you to import this file to other files without causing it's code to run unintended\n",
        "    main()"
      ],
      "metadata": {
        "colab": {
          "base_uri": "https://localhost:8080/"
        },
        "id": "Ff3IloRVn9BD",
        "outputId": "567d1ed0-399c-48f8-c6f9-a4f816e2a6e7"
      },
      "execution_count": null,
      "outputs": [
        {
          "output_type": "stream",
          "name": "stdout",
          "text": [
            "Name: srgm\n",
            "House: yellow\n",
            "srgm from yellow house\n"
          ]
        }
      ]
    },
    {
      "cell_type": "markdown",
      "source": [
        "Notice by convention that Student is capitalized. Further, notice the ... simply means that we will later return to finish that portion of our code. Further, notice that in get_student, we can create a student of class Student using the syntax student = Student(). Further, notice that we utilize “dot notation” to access attributes of this variable student of class Student.\n",
        "\n",
        "Any time you create a class and you utilize that blueprint to create something, you create what is called an “object” or an “instance”. In the case of our code, student is an object."
      ],
      "metadata": {
        "id": "UNpbWKbaoJSI"
      }
    },
    {
      "cell_type": "code",
      "source": [
        "class Student:\n",
        "    def __init__(self, name, house):\n",
        "        self.name = name\n",
        "        self.house = house\n",
        "\n",
        "\n",
        "def main():\n",
        "    student = get_student()\n",
        "    print(f\"{student.name} from {student.house}\")\n",
        "\n",
        "\n",
        "def get_student():\n",
        "    name = input(\"Name: \")\n",
        "    house = input(\"House: \")\n",
        "    return Student(name, house)\n",
        "\n",
        "\n",
        "if __name__ == \"__main__\":\n",
        "    main()"
      ],
      "metadata": {
        "colab": {
          "base_uri": "https://localhost:8080/"
        },
        "id": "Bm4O0rQ5pBr9",
        "outputId": "98a9f0fb-b152-428f-99e2-55a2a1a885a3"
      },
      "execution_count": null,
      "outputs": [
        {
          "output_type": "stream",
          "name": "stdout",
          "text": [
            "Name: srgm\n",
            "House: yellow\n",
            "srgm from yellow\n"
          ]
        }
      ]
    },
    {
      "cell_type": "markdown",
      "source": [
        "\n",
        "Notice that within Student, we standardize the attributes of this class. We can create a function within class Student, called a “method”, that determines the behavior of an object of class Student. Within this function, it takes the name and house passed to it and assigns these variables to this object. Further, notice how the constructor student = Student(name, house) calls this function within the Student class and creates a student. self refers to the current object that was just created.\n",
        "\n",
        "You can learn more in Python’s documentation of [classes](https://docs.python.org/3/tutorial/classes.html)."
      ],
      "metadata": {
        "id": "xZ-srXKspQud"
      }
    },
    {
      "cell_type": "markdown",
      "source": [
        "Object-oriented program encourages you to encapusulate all the functionality of a class within the class definition. What if something goes wrong? What if someone tries to type in something random? What if someone tries to create a student without a name?"
      ],
      "metadata": {
        "id": "22Son9xTplFZ"
      }
    },
    {
      "cell_type": "code",
      "source": [
        "class Student:\n",
        "    def __init__(self, name, house):\n",
        "        if not name:\n",
        "            raise ValueError(\"Missing name\")\n",
        "        if house not in [\"Gryffindor\", \"Hufflepuff\", \"Ravenclaw\", \"Slytherin\"]:\n",
        "            raise ValueError(\"Invalid house\")\n",
        "        self.name = name\n",
        "        self.house = house\n",
        "\n",
        "\n",
        "def main():\n",
        "    student = get_student()\n",
        "    print(f\"{student.name} from {student.house}\")\n",
        "\n",
        "\n",
        "def get_student():\n",
        "    name = input(\"Name: \")\n",
        "    house = input(\"House: \")\n",
        "    return Student(name, house)\n",
        "\n",
        "\n",
        "if __name__ == \"__main__\":\n",
        "    main()"
      ],
      "metadata": {
        "colab": {
          "base_uri": "https://localhost:8080/",
          "height": 356
        },
        "id": "j-UdbU9rpn-S",
        "outputId": "ccf54716-7c1a-4dfb-9562-5dac60beaca7"
      },
      "execution_count": null,
      "outputs": [
        {
          "name": "stdout",
          "output_type": "stream",
          "text": [
            "Name:  BBB\n",
            "House: NZNZN\n"
          ]
        },
        {
          "output_type": "error",
          "ename": "ValueError",
          "evalue": "Invalid house",
          "traceback": [
            "\u001b[0;31m---------------------------------------------------------------------------\u001b[0m",
            "\u001b[0;31mValueError\u001b[0m                                Traceback (most recent call last)",
            "\u001b[0;32m<ipython-input-23-3ef00a184e56>\u001b[0m in \u001b[0;36m<cell line: 22>\u001b[0;34m()\u001b[0m\n\u001b[1;32m     21\u001b[0m \u001b[0;34m\u001b[0m\u001b[0m\n\u001b[1;32m     22\u001b[0m \u001b[0;32mif\u001b[0m \u001b[0m__name__\u001b[0m \u001b[0;34m==\u001b[0m \u001b[0;34m\"__main__\"\u001b[0m\u001b[0;34m:\u001b[0m\u001b[0;34m\u001b[0m\u001b[0;34m\u001b[0m\u001b[0m\n\u001b[0;32m---> 23\u001b[0;31m     \u001b[0mmain\u001b[0m\u001b[0;34m(\u001b[0m\u001b[0;34m)\u001b[0m\u001b[0;34m\u001b[0m\u001b[0;34m\u001b[0m\u001b[0m\n\u001b[0m",
            "\u001b[0;32m<ipython-input-23-3ef00a184e56>\u001b[0m in \u001b[0;36mmain\u001b[0;34m()\u001b[0m\n\u001b[1;32m     10\u001b[0m \u001b[0;34m\u001b[0m\u001b[0m\n\u001b[1;32m     11\u001b[0m \u001b[0;32mdef\u001b[0m \u001b[0mmain\u001b[0m\u001b[0;34m(\u001b[0m\u001b[0;34m)\u001b[0m\u001b[0;34m:\u001b[0m\u001b[0;34m\u001b[0m\u001b[0;34m\u001b[0m\u001b[0m\n\u001b[0;32m---> 12\u001b[0;31m     \u001b[0mstudent\u001b[0m \u001b[0;34m=\u001b[0m \u001b[0mget_student\u001b[0m\u001b[0;34m(\u001b[0m\u001b[0;34m)\u001b[0m\u001b[0;34m\u001b[0m\u001b[0;34m\u001b[0m\u001b[0m\n\u001b[0m\u001b[1;32m     13\u001b[0m     \u001b[0mprint\u001b[0m\u001b[0;34m(\u001b[0m\u001b[0;34mf\"{student.name} from {student.house}\"\u001b[0m\u001b[0;34m)\u001b[0m\u001b[0;34m\u001b[0m\u001b[0;34m\u001b[0m\u001b[0m\n\u001b[1;32m     14\u001b[0m \u001b[0;34m\u001b[0m\u001b[0m\n",
            "\u001b[0;32m<ipython-input-23-3ef00a184e56>\u001b[0m in \u001b[0;36mget_student\u001b[0;34m()\u001b[0m\n\u001b[1;32m     17\u001b[0m     \u001b[0mname\u001b[0m \u001b[0;34m=\u001b[0m \u001b[0minput\u001b[0m\u001b[0;34m(\u001b[0m\u001b[0;34m\"Name: \"\u001b[0m\u001b[0;34m)\u001b[0m\u001b[0;34m\u001b[0m\u001b[0;34m\u001b[0m\u001b[0m\n\u001b[1;32m     18\u001b[0m     \u001b[0mhouse\u001b[0m \u001b[0;34m=\u001b[0m \u001b[0minput\u001b[0m\u001b[0;34m(\u001b[0m\u001b[0;34m\"House: \"\u001b[0m\u001b[0;34m)\u001b[0m\u001b[0;34m\u001b[0m\u001b[0;34m\u001b[0m\u001b[0m\n\u001b[0;32m---> 19\u001b[0;31m     \u001b[0;32mreturn\u001b[0m \u001b[0mStudent\u001b[0m\u001b[0;34m(\u001b[0m\u001b[0mname\u001b[0m\u001b[0;34m,\u001b[0m \u001b[0mhouse\u001b[0m\u001b[0;34m)\u001b[0m\u001b[0;34m\u001b[0m\u001b[0;34m\u001b[0m\u001b[0m\n\u001b[0m\u001b[1;32m     20\u001b[0m \u001b[0;34m\u001b[0m\u001b[0m\n\u001b[1;32m     21\u001b[0m \u001b[0;34m\u001b[0m\u001b[0m\n",
            "\u001b[0;32m<ipython-input-23-3ef00a184e56>\u001b[0m in \u001b[0;36m__init__\u001b[0;34m(self, name, house)\u001b[0m\n\u001b[1;32m      4\u001b[0m             \u001b[0;32mraise\u001b[0m \u001b[0mValueError\u001b[0m\u001b[0;34m(\u001b[0m\u001b[0;34m\"Missing name\"\u001b[0m\u001b[0;34m)\u001b[0m\u001b[0;34m\u001b[0m\u001b[0;34m\u001b[0m\u001b[0m\n\u001b[1;32m      5\u001b[0m         \u001b[0;32mif\u001b[0m \u001b[0mhouse\u001b[0m \u001b[0;32mnot\u001b[0m \u001b[0;32min\u001b[0m \u001b[0;34m[\u001b[0m\u001b[0;34m\"Gryffindor\"\u001b[0m\u001b[0;34m,\u001b[0m \u001b[0;34m\"Hufflepuff\"\u001b[0m\u001b[0;34m,\u001b[0m \u001b[0;34m\"Ravenclaw\"\u001b[0m\u001b[0;34m,\u001b[0m \u001b[0;34m\"Slytherin\"\u001b[0m\u001b[0;34m]\u001b[0m\u001b[0;34m:\u001b[0m\u001b[0;34m\u001b[0m\u001b[0;34m\u001b[0m\u001b[0m\n\u001b[0;32m----> 6\u001b[0;31m             \u001b[0;32mraise\u001b[0m \u001b[0mValueError\u001b[0m\u001b[0;34m(\u001b[0m\u001b[0;34m\"Invalid house\"\u001b[0m\u001b[0;34m)\u001b[0m\u001b[0;34m\u001b[0m\u001b[0;34m\u001b[0m\u001b[0m\n\u001b[0m\u001b[1;32m      7\u001b[0m         \u001b[0mself\u001b[0m\u001b[0;34m.\u001b[0m\u001b[0mname\u001b[0m \u001b[0;34m=\u001b[0m \u001b[0mname\u001b[0m\u001b[0;34m\u001b[0m\u001b[0;34m\u001b[0m\u001b[0m\n\u001b[1;32m      8\u001b[0m         \u001b[0mself\u001b[0m\u001b[0;34m.\u001b[0m\u001b[0mhouse\u001b[0m \u001b[0;34m=\u001b[0m \u001b[0mhouse\u001b[0m\u001b[0;34m\u001b[0m\u001b[0;34m\u001b[0m\u001b[0m\n",
            "\u001b[0;31mValueError\u001b[0m: Invalid house"
          ]
        }
      ]
    },
    {
      "cell_type": "markdown",
      "source": [
        "Notice how we check now that a name is provided and a proper house is designated. It turns out we can create our own exceptions that alerts the programmer to a potential error created by the user called raise. In the case above, we raise ValueError with a specific error message.\n",
        "\n",
        "It just so happens that Python allows you to create a specific function by which you can print the attributes of an object. Notice how def __str__(self) provides a means by which a student is returned when called. Therefore, you can now, as the programmer, print an object, its attributes, or almost anything you desire related to that object.\n",
        "\n",
        "\\__str__ is a built-in method that comes with Python classes. It just so happens that we can create our own methods for a class as well!"
      ],
      "metadata": {
        "id": "UVS2gV_mpxcC"
      }
    },
    {
      "cell_type": "code",
      "source": [
        "class Student:\n",
        "    def __init__(self, name, house, patronus=None):\n",
        "        if not name:\n",
        "            raise ValueError(\"Missing name\")\n",
        "        if house not in [\"Gryffindor\", \"Hufflepuff\", \"Ravenclaw\", \"Slytherin\"]:\n",
        "            raise ValueError(\"Invalid house\")\n",
        "        if patronus and patronus not in [\"Stag\", \"Otter\", \"Jack Russell terrier\"]:\n",
        "            raise ValueError(\"Invalid patronus\")\n",
        "        self.name = name\n",
        "        self.house = house\n",
        "        self.patronus = patronus\n",
        "\n",
        "    def __str__(self):\n",
        "        return f\"{self.name} from {self.house}\"\n",
        "\n",
        "    def charm(self):\n",
        "        match self.patronus:\n",
        "            case \"Stag\":\n",
        "                return \"🐴\"\n",
        "            case \"Otter\":\n",
        "                return \"🦦\"\n",
        "            case \"Jack Russell terrier\":\n",
        "                return \"🐶\"\n",
        "            case _:\n",
        "                return \"🪄\"\n",
        "\n",
        "\n",
        "def main():\n",
        "    student = get_student()\n",
        "    print(\"Expecto Patronum!\")\n",
        "    print(student.charm())\n",
        "\n",
        "\n",
        "def get_student():\n",
        "    name = input(\"Name: \")\n",
        "    house = input(\"House: \")\n",
        "    patronus = input(\"Patronus: \") or None\n",
        "    return Student(name, house, patronus)\n",
        "\n",
        "\n",
        "if __name__ == \"__main__\":\n",
        "    main()"
      ],
      "metadata": {
        "colab": {
          "base_uri": "https://localhost:8080/"
        },
        "id": "W9Rbq_VKp8Lc",
        "outputId": "3bafb014-bbec-4ebc-ba2e-de70c57340bc"
      },
      "execution_count": null,
      "outputs": [
        {
          "output_type": "stream",
          "name": "stdout",
          "text": [
            "Name: bvbvb\n",
            "House: Slytherin\n",
            "Patronus: \n",
            "Expecto Patronum!\n",
            "🪄\n"
          ]
        }
      ]
    },
    {
      "cell_type": "markdown",
      "source": [
        "## Decorators and Class Methods"
      ],
      "metadata": {
        "id": "7-k9bnedqHGU"
      }
    },
    {
      "cell_type": "markdown",
      "source": [
        "Properties can be utilized to harden our code. In Python, we define properties using function “decorators”, which begin with @"
      ],
      "metadata": {
        "id": "vVKiITvIqPVa"
      }
    },
    {
      "cell_type": "code",
      "source": [
        "class Student:\n",
        "    def __init__(self, name, house):\n",
        "        self.name = name\n",
        "        self.house = house\n",
        "\n",
        "    def __str__(self):\n",
        "        return f\"{self.name} from {self.house}\"\n",
        "\n",
        "    # Getter for name\n",
        "    @property\n",
        "    def name(self):\n",
        "        return self._name\n",
        "\n",
        "    # Setter for name\n",
        "    @name.setter\n",
        "    def name(self, name):\n",
        "        if not name:\n",
        "            raise ValueError(\"Invalid name\")\n",
        "        self._name = name\n",
        "\n",
        "    @property\n",
        "    def house(self):\n",
        "        return self._house\n",
        "\n",
        "    @house.setter\n",
        "    def house(self, house):\n",
        "        if house not in [\"Gryffindor\", \"Hufflepuff\", \"Ravenclaw\", \"Slytherin\"]:\n",
        "            raise ValueError(\"Invalid house\")\n",
        "        self._house = house\n",
        "\n",
        "\n",
        "def main():\n",
        "    student = get_student()\n",
        "    print(student)\n",
        "\n",
        "\n",
        "def get_student():\n",
        "    name = input(\"Name: \")\n",
        "    house = input(\"House: \")\n",
        "    return Student(name, house)\n",
        "\n",
        "\n",
        "if __name__ == \"__main__\":\n",
        "    main()"
      ],
      "metadata": {
        "colab": {
          "base_uri": "https://localhost:8080/"
        },
        "id": "BC6ZsSHxqJqf",
        "outputId": "4fb7df4f-0607-4572-81fb-69607d5d347d"
      },
      "execution_count": null,
      "outputs": [
        {
          "output_type": "stream",
          "name": "stdout",
          "text": [
            "Name: Cedric Diggory\n",
            "House: Hufflepuff\n",
            "Cedric Diggory from Hufflepuff\n"
          ]
        }
      ]
    },
    {
      "cell_type": "markdown",
      "source": [
        "Notice how we’ve written @property above a function called house. Doing so defines house as a property of our class. With house as a property, we gain the ability to define how some attribute of our class, _house, should be set and retrieved. Indeed, we can now define a function called a “setter”, via @house.setter, which will be called whenever the house property is set—for example, with student.house = \"Gryffindor\". Here, we’ve made our setter validate values of house for us. Notice how we raise a ValueError if the value of house is not any of the Harry Potter houses, otherwise, we’ll use house to update the value of _house. Why _house and not house? house is a property of our class, with functions via which a user attempts to set our class attribute. _house is that class attribute itself. The leading underscore, _, indicates to users they need not (and indeed, shouldn’t!) modify this value directly. _house should only be set through the house setter. Notice how the house property simply returns that value of _house, our class attribute that has presumably been validated using our house setter. When a user calls student.house, they’re getting the value of _house through our house “getter”."
      ],
      "metadata": {
        "id": "raNzzu4TqRiQ"
      }
    },
    {
      "cell_type": "markdown",
      "source": [
        "Sometimes, we want to add functionality to a class itself, not to instances of that class.\n",
        "@classmethod is a function that we can use to add functionality to a class as a whole.\n",
        "Here’s an example of _not_ using a class method."
      ],
      "metadata": {
        "id": "HYcwFUMnqi-w"
      }
    },
    {
      "cell_type": "code",
      "source": [
        "import random\n",
        "\n",
        "\n",
        "class Hat:\n",
        "    def __init__(self):\n",
        "        self.houses = [\"Gryffindor\", \"Hufflepuff\", \"Ravenclaw\", \"Slytherin\"]\n",
        "\n",
        "    def sort(self, name):\n",
        "        print(name, \"is in\", random.choice(self.houses))\n",
        "\n",
        "\n",
        "hat = Hat()\n",
        "hat.sort(\"Harry\")"
      ],
      "metadata": {
        "colab": {
          "base_uri": "https://localhost:8080/"
        },
        "id": "sUY5Gn-jqqdU",
        "outputId": "e64f0c95-9ade-4e72-8d9d-6fd247379778"
      },
      "execution_count": null,
      "outputs": [
        {
          "output_type": "stream",
          "name": "stdout",
          "text": [
            "Harry is in Hufflepuff\n"
          ]
        }
      ]
    },
    {
      "cell_type": "markdown",
      "source": [
        "Notice how when we pass the name of the student to the sorting hat, it will tell us what house is assigned to the student. Notice that hat = Hat() instantiates a hat. The sort functionality is always handled by the instance of the class Hat. By executing hat.sort(\"Harry\"), we pass the name of the student to the sort method of the particular instance of Hat, which we’ve called hat.\n",
        "\n",
        "We may want, though, to run the sort function without creating a particular instance of the sorting hat (there’s only one, after all!). We can modify our code as follows:"
      ],
      "metadata": {
        "id": "z02F8u5fqyfs"
      }
    },
    {
      "cell_type": "code",
      "source": [
        "import random\n",
        "\n",
        "\n",
        "class Hat:\n",
        "\n",
        "    houses = [\"Gryffindor\", \"Hufflepuff\", \"Ravenclaw\", \"Slytherin\"]\n",
        "\n",
        "    @classmethod\n",
        "    def sort(cls, name):\n",
        "        print(name, \"is in\", random.choice(cls.houses))\n",
        "\n",
        "\n",
        "Hat.sort(\"Harry\")"
      ],
      "metadata": {
        "colab": {
          "base_uri": "https://localhost:8080/"
        },
        "id": "4bQbH1IDqzId",
        "outputId": "6a4c98b6-9c1e-43f6-e553-d888e7f33c35"
      },
      "execution_count": null,
      "outputs": [
        {
          "output_type": "stream",
          "name": "stdout",
          "text": [
            "Harry is in Ravenclaw\n"
          ]
        }
      ]
    },
    {
      "cell_type": "markdown",
      "source": [
        "Notice how the __init__ method is removed because we don’t need to instantiate a hat anywhere in our code. self, therefore, is no longer relevant and is removed. We specify this sort as a @classmethod, replacing self with cls. Finally, notice how Hat is capitalized by convention near the end of this code, because this is the name of our class."
      ],
      "metadata": {
        "id": "iWB9mSc4q1lk"
      }
    },
    {
      "cell_type": "markdown",
      "source": [
        "Returning back to our previous code we can modify our code as follows, addressing some missed opportunities related to @classmethods"
      ],
      "metadata": {
        "id": "vvoJNKAGq72q"
      }
    },
    {
      "cell_type": "code",
      "source": [
        "class Student:\n",
        "    def __init__(self, name, house):\n",
        "        self.name = name\n",
        "        self.house = house\n",
        "\n",
        "    def __str__(self):\n",
        "        return f\"{self.name} from {self.house}\"\n",
        "\n",
        "    @classmethod\n",
        "    def get(cls):\n",
        "        name = input(\"Name: \")\n",
        "        house = input(\"House: \")\n",
        "        return cls(name, house)\n",
        "\n",
        "\n",
        "def main():\n",
        "    student = Student.get()\n",
        "    print(student)\n",
        "\n",
        "\n",
        "if __name__ == \"__main__\":\n",
        "    main()"
      ],
      "metadata": {
        "colab": {
          "base_uri": "https://localhost:8080/"
        },
        "id": "-v5eCpRaq-W1",
        "outputId": "09fc0ea8-765e-4bfd-95d5-3e70fdee2eae"
      },
      "execution_count": null,
      "outputs": [
        {
          "output_type": "stream",
          "name": "stdout",
          "text": [
            "Name: Luna Lovegood\n",
            "House: Ravenclaw\n",
            "Luna Lovegood from Ravenclaw\n"
          ]
        }
      ]
    },
    {
      "cell_type": "markdown",
      "source": [
        "## Inheritance"
      ],
      "metadata": {
        "id": "8x-2SzhkrCFL"
      }
    },
    {
      "cell_type": "markdown",
      "source": [
        "Inheritance is, perhaps, the most powerful feature of object-oriented programming.\n",
        "\n",
        "It just so happens that you can create a class that “inherits” methods, variables, and attributes from another class."
      ],
      "metadata": {
        "id": "ewHrxMOfrEgb"
      }
    },
    {
      "cell_type": "code",
      "source": [
        "class Wizard:\n",
        "    def __init__(self, name):\n",
        "        if not name:\n",
        "            raise ValueError(\"Missing name\")\n",
        "        self.name = name\n",
        "\n",
        "    ...\n",
        "\n",
        "\n",
        "class Student(Wizard):\n",
        "    def __init__(self, name, house):\n",
        "        super().__init__(name)\n",
        "        self.house = house\n",
        "\n",
        "    ...\n",
        "\n",
        "\n",
        "class Professor(Wizard):\n",
        "    def __init__(self, name, subject):\n",
        "        super().__init__(name)\n",
        "        self.subject = subject\n",
        "\n",
        "    ...\n",
        "\n",
        "\n",
        "wizard = Wizard(\"Albus\")\n",
        "student = Student(\"Harry\", \"Gryffindor\")\n",
        "professor = Professor(\"Severus\", \"Defense Against the Dark Arts\")\n",
        "..."
      ],
      "metadata": {
        "colab": {
          "base_uri": "https://localhost:8080/"
        },
        "id": "ZjaLFOEGrDlK",
        "outputId": "1cf66970-eabc-47ca-c0ea-24e406ffe1c9"
      },
      "execution_count": null,
      "outputs": [
        {
          "output_type": "execute_result",
          "data": {
            "text/plain": [
              "Ellipsis"
            ]
          },
          "metadata": {},
          "execution_count": 66
        }
      ]
    },
    {
      "cell_type": "markdown",
      "source": [
        "Notice that there is a class above called Wizard and a class called Student. Further, notice that there is a class called Professor. Both students and professors have names. Also, both students and professors are wizards. Therefore, both Student and Professor inherit the characteristics of Wizard. Within the “child” class Student, Student can inherit from the “parent” or “super” class Wizard as the line super().__init__(name) runs the init method of Wizard. Finally, notice that the last lines of this code create a wizard called Albus, a student called Harry, and so on"
      ],
      "metadata": {
        "id": "_XJZ6WxsrLXw"
      }
    },
    {
      "cell_type": "markdown",
      "source": [
        "While we have just introduced inheritance, we have been using this all along during our use of exceptions.\n",
        "It just so happens that exceptions come in a heirarchy, where there are children, parent, and grandparent classes. These are illustrated below:\n",
        "\n",
        "-- BaseException\n",
        "\n",
        "-- KeyboardInterrupt\n",
        "\n",
        "-- Exception\n",
        "\n",
        "-- ArithmeticError\n",
        "\n",
        "-- ZeroDivisionError\n",
        "\n",
        "-- AssertionError\n",
        "\n",
        "-- AttributeError\n",
        "\n",
        "-- EOFError\n",
        "\n",
        "-- ImportError\n",
        "\n",
        "-- ModuleNotFoundError\n",
        "\n",
        "-- LookupError\n",
        "\n",
        "-- KeyError\n",
        "\n",
        "-- NameError\n",
        "\n",
        "-- SyntaxError\n",
        "\n",
        "-- IndentationError\n",
        "\n",
        "-- ValueError\n",
        "\n",
        "You can learn more in Python’s documentation of [exceptions](https://docs.python.org/3/library/exceptions.html)."
      ],
      "metadata": {
        "id": "SK073-GHrQi-"
      }
    },
    {
      "cell_type": "markdown",
      "source": [
        "## Operator Overloading"
      ],
      "metadata": {
        "id": "EKuCsISAsHvZ"
      }
    },
    {
      "cell_type": "markdown",
      "source": [
        "Some operators such as + and - can be “overloaded” such that they can have more abilities beyond simple arithmetic."
      ],
      "metadata": {
        "id": "Aqb074RMseqH"
      }
    },
    {
      "cell_type": "code",
      "source": [
        "class Vault:\n",
        "    def __init__(self, galleons=0, sickles=0, knuts=0):\n",
        "        self.galleons = galleons\n",
        "        self.sickles = sickles\n",
        "        self.knuts = knuts\n",
        "\n",
        "    def __str__(self):\n",
        "        return f\"{self.galleons} Galleons, {self.sickles} Sickles, {self.knuts} Knuts\"\n",
        "\n",
        "    def __add__(self, other):\n",
        "        galleons = self.galleons + other.galleons\n",
        "        sickles = self.sickles + other.sickles\n",
        "        knuts = self.knuts + other.knuts\n",
        "        return Vault(galleons, sickles, knuts)\n",
        "\n",
        "\n",
        "potter = Vault(100, 50, 25)\n",
        "print(potter)\n",
        "\n",
        "weasley = Vault(25, 50, 100)\n",
        "print(weasley)\n",
        "\n",
        "total = potter + weasley\n",
        "print(total)"
      ],
      "metadata": {
        "colab": {
          "base_uri": "https://localhost:8080/"
        },
        "id": "aMo7jm0dshPb",
        "outputId": "b621e297-846d-4903-df08-78ea32937f6a"
      },
      "execution_count": null,
      "outputs": [
        {
          "output_type": "stream",
          "name": "stdout",
          "text": [
            "100 Galleons, 50 Sickles, 25 Knuts\n",
            "25 Galleons, 50 Sickles, 100 Knuts\n",
            "125 Galleons, 100 Sickles, 125 Knuts\n"
          ]
        }
      ]
    },
    {
      "cell_type": "markdown",
      "source": [
        "Notice how the __str__ method returns a formatted string. Further, notice how the __add__ method allows for the addition of the values of two vaults. self is what is on the left of the + operand. other is what is right of the +.\n",
        "\n",
        "You can learn more in Python’s documentation of [operator overloading](https://docs.python.org/3/reference/datamodel.html#special-method-names)."
      ],
      "metadata": {
        "id": "0xApFHuqsk4O"
      }
    },
    {
      "cell_type": "markdown",
      "source": [
        "## NumPy"
      ],
      "metadata": {
        "id": "_53ei20_veSA"
      }
    },
    {
      "cell_type": "markdown",
      "source": [
        "### Introduction"
      ],
      "metadata": {
        "id": "tUlP1Kv3xyIe"
      }
    },
    {
      "cell_type": "markdown",
      "source": [
        "NumPy is a popular library for storing arrays of numbers and performing computations on them. Not only this enables to write often more succint code, this also makes the code faster, since most NumPy routines are implemented in C for speed.\n",
        "\n",
        "To use NumPy in your program, you need to import it as follows"
      ],
      "metadata": {
        "id": "QegB5wZrwdNF"
      }
    },
    {
      "cell_type": "code",
      "source": [
        "import numpy as np"
      ],
      "metadata": {
        "id": "rTBQSBnIvjFx"
      },
      "execution_count": 7,
      "outputs": []
    },
    {
      "cell_type": "markdown",
      "source": [
        "NumPy arrays can be created from Python lists"
      ],
      "metadata": {
        "id": "2iV7B3OvwfhW"
      }
    },
    {
      "cell_type": "code",
      "source": [
        "my_array = np.array([1, 2, 3])\n",
        "my_array"
      ],
      "metadata": {
        "colab": {
          "base_uri": "https://localhost:8080/"
        },
        "id": "2D7waRnkwh0e",
        "outputId": "113b9746-8583-46e8-f97b-47adbdb687f7"
      },
      "execution_count": null,
      "outputs": [
        {
          "output_type": "execute_result",
          "data": {
            "text/plain": [
              "array([1, 2, 3])"
            ]
          },
          "metadata": {},
          "execution_count": 2
        }
      ]
    },
    {
      "cell_type": "markdown",
      "metadata": {
        "id": "Sy2EvrxFriAG"
      },
      "source": [
        "NumPy supports array of arbitrary dimension. For example, we can create two-dimensional arrays (e.g. to store a matrix) as follows"
      ]
    },
    {
      "cell_type": "code",
      "metadata": {
        "id": "wM-GYVMsrzNs",
        "colab": {
          "base_uri": "https://localhost:8080/"
        },
        "outputId": "74c8ac00-3176-422a-fb99-43a999dae0d3"
      },
      "source": [
        "my_2d_array = np.array([[1, 2, 3], [4, 5, 6]])\n",
        "my_2d_array"
      ],
      "execution_count": null,
      "outputs": [
        {
          "output_type": "execute_result",
          "data": {
            "text/plain": [
              "array([[1, 2, 3],\n",
              "       [4, 5, 6]])"
            ]
          },
          "metadata": {},
          "execution_count": 3
        }
      ]
    },
    {
      "cell_type": "markdown",
      "metadata": {
        "id": "-kZMzYsAsVAc"
      },
      "source": [
        "We can access individual elements of a 2d-array using two indices"
      ]
    },
    {
      "cell_type": "code",
      "metadata": {
        "id": "4q8X86BbscPd",
        "colab": {
          "base_uri": "https://localhost:8080/"
        },
        "outputId": "d0f7553e-d79c-408b-b1de-baf9410aab0b"
      },
      "source": [
        "my_2d_array[1, 2]"
      ],
      "execution_count": null,
      "outputs": [
        {
          "output_type": "execute_result",
          "data": {
            "text/plain": [
              "6"
            ]
          },
          "metadata": {},
          "execution_count": 4
        }
      ]
    },
    {
      "cell_type": "markdown",
      "metadata": {
        "id": "OfVIKyxkTh0p"
      },
      "source": [
        "We can also access rows"
      ]
    },
    {
      "cell_type": "code",
      "metadata": {
        "id": "CrKnDAtyTlYe",
        "colab": {
          "base_uri": "https://localhost:8080/"
        },
        "outputId": "c82a96d4-cfaa-468d-9a15-6c1109e33f73"
      },
      "source": [
        "my_2d_array[1]"
      ],
      "execution_count": null,
      "outputs": [
        {
          "output_type": "execute_result",
          "data": {
            "text/plain": [
              "array([4, 5, 6])"
            ]
          },
          "metadata": {},
          "execution_count": 5
        }
      ]
    },
    {
      "cell_type": "markdown",
      "metadata": {
        "id": "hskLBCp9ToCG"
      },
      "source": [
        "and columns"
      ]
    },
    {
      "cell_type": "code",
      "metadata": {
        "id": "MOOFsLHhTozX",
        "colab": {
          "base_uri": "https://localhost:8080/"
        },
        "outputId": "ebbab033-1618-420d-fe10-3395ada59f43"
      },
      "source": [
        "my_2d_array[:, 2]"
      ],
      "execution_count": null,
      "outputs": [
        {
          "output_type": "execute_result",
          "data": {
            "text/plain": [
              "array([3, 6])"
            ]
          },
          "metadata": {},
          "execution_count": 6
        }
      ]
    },
    {
      "cell_type": "markdown",
      "metadata": {
        "id": "keWK_5PHr9Q2"
      },
      "source": [
        "Arrays have a `shape` attribute"
      ]
    },
    {
      "cell_type": "code",
      "metadata": {
        "id": "5QIo7l1Yr8m7",
        "colab": {
          "base_uri": "https://localhost:8080/"
        },
        "outputId": "910dfbf1-1be0-466b-da8f-9774fe4431bc"
      },
      "source": [
        "print(my_array.shape)\n",
        "print(my_2d_array.shape)"
      ],
      "execution_count": null,
      "outputs": [
        {
          "output_type": "stream",
          "name": "stdout",
          "text": [
            "(3,)\n",
            "(2, 3)\n"
          ]
        }
      ]
    },
    {
      "cell_type": "markdown",
      "metadata": {
        "id": "LmX0EDWVsoDY"
      },
      "source": [
        "Contrary to Python lists, NumPy arrays must have a type and all elements of the array must have the same type."
      ]
    },
    {
      "cell_type": "code",
      "metadata": {
        "id": "FZjOowkls57o",
        "colab": {
          "base_uri": "https://localhost:8080/"
        },
        "outputId": "713b2744-d134-4bf6-8f15-0921501b2afe"
      },
      "source": [
        "my_array.dtype"
      ],
      "execution_count": null,
      "outputs": [
        {
          "output_type": "execute_result",
          "data": {
            "text/plain": [
              "dtype('int64')"
            ]
          },
          "metadata": {},
          "execution_count": 8
        }
      ]
    },
    {
      "cell_type": "markdown",
      "metadata": {
        "id": "i5AvLdf7tGnZ"
      },
      "source": [
        "The main types are `int32` (32-bit integers), `int64` (64-bit integers), `float32` (32-bit real values) and `float64` (64-bit real values)."
      ]
    },
    {
      "cell_type": "markdown",
      "metadata": {
        "id": "w8ym2qZCt9Nm"
      },
      "source": [
        "The `dtype` can be specified when creating the array"
      ]
    },
    {
      "cell_type": "code",
      "metadata": {
        "id": "gXpM_FqruCVv",
        "colab": {
          "base_uri": "https://localhost:8080/"
        },
        "outputId": "6b2f6cb6-a842-4c3d-c0ef-50eef57c0dec"
      },
      "source": [
        "my_array = np.array([1, 2, 3], dtype=np.float64)\n",
        "my_array.dtype"
      ],
      "execution_count": null,
      "outputs": [
        {
          "output_type": "execute_result",
          "data": {
            "text/plain": [
              "dtype('float64')"
            ]
          },
          "metadata": {},
          "execution_count": 9
        }
      ]
    },
    {
      "cell_type": "markdown",
      "metadata": {
        "id": "WueaRIONuTdS"
      },
      "source": [
        "We can create arrays of all zeros using"
      ]
    },
    {
      "cell_type": "code",
      "metadata": {
        "id": "jbD8N1UauK8r",
        "colab": {
          "base_uri": "https://localhost:8080/"
        },
        "outputId": "5365095c-936a-4afb-ad49-2037374c4c1c"
      },
      "source": [
        "zero_array = np.zeros((2, 3))\n",
        "zero_array"
      ],
      "execution_count": null,
      "outputs": [
        {
          "output_type": "execute_result",
          "data": {
            "text/plain": [
              "array([[0., 0., 0.],\n",
              "       [0., 0., 0.]])"
            ]
          },
          "metadata": {},
          "execution_count": 10
        }
      ]
    },
    {
      "cell_type": "markdown",
      "metadata": {
        "id": "vn5go6qoudo4"
      },
      "source": [
        "and similarly for all ones using `ones` instead of `zeros`."
      ]
    },
    {
      "cell_type": "markdown",
      "metadata": {
        "id": "1kCRlhLJuvZ6"
      },
      "source": [
        "We can create a range of values using"
      ]
    },
    {
      "cell_type": "code",
      "metadata": {
        "id": "EcQXDeEmuxpO",
        "colab": {
          "base_uri": "https://localhost:8080/"
        },
        "outputId": "4e5b99b9-eca3-4dd8-aa4e-c59b56e82529"
      },
      "source": [
        "np.arange(5)"
      ],
      "execution_count": null,
      "outputs": [
        {
          "output_type": "execute_result",
          "data": {
            "text/plain": [
              "array([0, 1, 2, 3, 4])"
            ]
          },
          "metadata": {},
          "execution_count": 2
        }
      ]
    },
    {
      "cell_type": "markdown",
      "metadata": {
        "id": "ZvJECk6Iu3uF"
      },
      "source": [
        "or specifying the starting point"
      ]
    },
    {
      "cell_type": "code",
      "metadata": {
        "id": "Pk3UzL3du_f8",
        "colab": {
          "base_uri": "https://localhost:8080/"
        },
        "outputId": "4c0a587b-4ded-4eff-967d-fca314bccb9c"
      },
      "source": [
        "np.arange(3, 5)"
      ],
      "execution_count": null,
      "outputs": [
        {
          "output_type": "execute_result",
          "data": {
            "text/plain": [
              "array([3, 4])"
            ]
          },
          "metadata": {},
          "execution_count": 12
        }
      ]
    },
    {
      "cell_type": "markdown",
      "metadata": {
        "id": "f1JtqFSivJKG"
      },
      "source": [
        "Another useful routine is `linspace` for creating linearly spaced values in an interval. For instance, to create 10 values in `[0, 1]`, we can use"
      ]
    },
    {
      "cell_type": "code",
      "metadata": {
        "id": "udHHjGAHvOQM",
        "colab": {
          "base_uri": "https://localhost:8080/"
        },
        "outputId": "9a875f88-4e13-4d12-c071-29a18dfe1abd"
      },
      "source": [
        "np.linspace(0, 1, 10)"
      ],
      "execution_count": null,
      "outputs": [
        {
          "output_type": "execute_result",
          "data": {
            "text/plain": [
              "array([0.        , 0.11111111, 0.22222222, 0.33333333, 0.44444444,\n",
              "       0.55555556, 0.66666667, 0.77777778, 0.88888889, 1.        ])"
            ]
          },
          "metadata": {},
          "execution_count": 13
        }
      ]
    },
    {
      "cell_type": "markdown",
      "metadata": {
        "id": "WbcxAKobvgUT"
      },
      "source": [
        "Another important operation is `reshape`, for changing the shape of an array"
      ]
    },
    {
      "cell_type": "code",
      "metadata": {
        "id": "4FPzTuDlvlLO",
        "colab": {
          "base_uri": "https://localhost:8080/"
        },
        "outputId": "95970990-03ea-435c-9788-aed416237f6c"
      },
      "source": [
        "my_array = np.array([1, 2, 3, 4, 5, 6])\n",
        "my_array.reshape(3, 2)"
      ],
      "execution_count": null,
      "outputs": [
        {
          "output_type": "execute_result",
          "data": {
            "text/plain": [
              "array([[1, 2],\n",
              "       [3, 4],\n",
              "       [5, 6]])"
            ]
          },
          "metadata": {},
          "execution_count": 14
        }
      ]
    },
    {
      "cell_type": "markdown",
      "metadata": {
        "id": "f9B0iCBlmfeY"
      },
      "source": [
        "### Basic operations"
      ]
    },
    {
      "cell_type": "markdown",
      "metadata": {
        "id": "elQGgkqDxKLV"
      },
      "source": [
        "In NumPy, we express computations directly over arrays. This makes the code much more succint."
      ]
    },
    {
      "cell_type": "markdown",
      "metadata": {
        "id": "hkCU1T8ixghX"
      },
      "source": [
        "Arithmetic operations can be performed directly over arrays. For instance, assuming two arrays have a compatible shape, we can add them as follows"
      ]
    },
    {
      "cell_type": "code",
      "metadata": {
        "id": "4AoiRq42x5mI",
        "colab": {
          "base_uri": "https://localhost:8080/"
        },
        "outputId": "a37973c5-414f-44ce-aa1e-1c446401f6be"
      },
      "source": [
        "array_a = np.array([1, 2, 3])\n",
        "array_b = np.array([4, 5, 6])\n",
        "array_a + array_b"
      ],
      "execution_count": null,
      "outputs": [
        {
          "output_type": "execute_result",
          "data": {
            "text/plain": [
              "array([5, 7, 9])"
            ]
          },
          "metadata": {},
          "execution_count": 4
        }
      ]
    },
    {
      "cell_type": "markdown",
      "metadata": {
        "id": "SyPqME2EyD4x"
      },
      "source": [
        "Compare this with the equivalent computation using a for loop"
      ]
    },
    {
      "cell_type": "code",
      "metadata": {
        "id": "HxRFA_U2yfI-",
        "colab": {
          "base_uri": "https://localhost:8080/"
        },
        "outputId": "80e9458c-f3c8-44aa-fdf0-bd061a14feb6"
      },
      "source": [
        "array_out = np.zeros_like(array_a)\n",
        "for i in range(len(array_a)):\n",
        "  array_out[i] = array_a[i] + array_b[i]\n",
        "array_out"
      ],
      "execution_count": null,
      "outputs": [
        {
          "output_type": "execute_result",
          "data": {
            "text/plain": [
              "array([5, 7, 9])"
            ]
          },
          "metadata": {},
          "execution_count": 6
        }
      ]
    },
    {
      "cell_type": "markdown",
      "metadata": {
        "id": "i2a-apX-zlPN"
      },
      "source": [
        "Not only this code is more verbose, it will also run much more slowly."
      ]
    },
    {
      "cell_type": "markdown",
      "metadata": {
        "id": "Qdn8MwpR0wX_"
      },
      "source": [
        "In NumPy, functions that operates on arrays in an element-wise fashion are called [universal functions](https://numpy.org/doc/stable/reference/ufuncs.html). For instance, this is the case of `np.sin`"
      ]
    },
    {
      "cell_type": "code",
      "metadata": {
        "id": "JoanjiMu1BH5",
        "colab": {
          "base_uri": "https://localhost:8080/"
        },
        "outputId": "56ec6c9b-f19c-455d-d9fb-3339ba46e975"
      },
      "source": [
        "np.sin(array_a)"
      ],
      "execution_count": null,
      "outputs": [
        {
          "output_type": "execute_result",
          "data": {
            "text/plain": [
              "array([0.84147098, 0.90929743, 0.14112001])"
            ]
          },
          "metadata": {},
          "execution_count": 17
        }
      ]
    },
    {
      "cell_type": "markdown",
      "metadata": {
        "id": "jHljrPXg5h8W"
      },
      "source": [
        "Vector inner product can be performed using `np.dot`"
      ]
    },
    {
      "cell_type": "code",
      "metadata": {
        "id": "TphR8oIx5ob9",
        "colab": {
          "base_uri": "https://localhost:8080/"
        },
        "outputId": "4c38fe48-ac88-45d2-b1dd-6085a0c2e952"
      },
      "source": [
        "np.dot(array_a, array_b)"
      ],
      "execution_count": null,
      "outputs": [
        {
          "output_type": "execute_result",
          "data": {
            "text/plain": [
              "32"
            ]
          },
          "metadata": {},
          "execution_count": 18
        }
      ]
    },
    {
      "cell_type": "markdown",
      "metadata": {
        "id": "lHInOiSW50OR"
      },
      "source": [
        "When the two arguments to `np.dot` are both 2d arrays, `np.dot` becomes matrix multiplication"
      ]
    },
    {
      "cell_type": "code",
      "metadata": {
        "id": "QRbpbhPP6Up0",
        "colab": {
          "base_uri": "https://localhost:8080/"
        },
        "outputId": "979aaa70-e5e7-40f5-aabf-3b09b9c99c4c"
      },
      "source": [
        "array_A = np.random.rand(5, 3)\n",
        "array_B = np.random.randn(3, 4)\n",
        "np.dot(array_A, array_B)"
      ],
      "execution_count": null,
      "outputs": [
        {
          "output_type": "execute_result",
          "data": {
            "text/plain": [
              "array([[ 0.57678163,  0.61018606,  0.44469622,  0.35118516],\n",
              "       [ 0.86200294, -0.24199935,  0.70592948,  0.78007639],\n",
              "       [ 0.51719472,  0.98460793,  0.02333885,  1.02938987],\n",
              "       [ 0.9869184 , -0.37431574,  0.76409294,  1.02200911],\n",
              "       [ 0.83800111,  0.39473107,  0.70126747,  0.53431825]])"
            ]
          },
          "metadata": {},
          "execution_count": 19
        }
      ]
    },
    {
      "cell_type": "markdown",
      "metadata": {
        "id": "odVawD9m6gwv"
      },
      "source": [
        "Matrix transpose can be done using `.transpose()` or `.T` for short"
      ]
    },
    {
      "cell_type": "code",
      "metadata": {
        "id": "gvPe_JAO6mvF",
        "colab": {
          "base_uri": "https://localhost:8080/"
        },
        "outputId": "d6bdb7a3-ea89-4f2c-b60a-ae3ede56cf17"
      },
      "source": [
        "array_A.T"
      ],
      "execution_count": null,
      "outputs": [
        {
          "output_type": "execute_result",
          "data": {
            "text/plain": [
              "array([[0.47643332, 0.65091381, 0.89455238, 0.7988812 , 0.61978605],\n",
              "       [0.59341231, 0.41127155, 0.83761103, 0.44736284, 0.64639732],\n",
              "       [0.51025282, 0.84776815, 0.32116695, 0.96402463, 0.7885166 ]])"
            ]
          },
          "metadata": {},
          "execution_count": 20
        }
      ]
    },
    {
      "cell_type": "markdown",
      "metadata": {
        "id": "JlWt3oFnE_E-"
      },
      "source": [
        "### Slicing and masking"
      ]
    },
    {
      "cell_type": "markdown",
      "metadata": {
        "id": "e4aKKe7bFA65"
      },
      "source": [
        "Like Python lists, NumPy arrays support slicing"
      ]
    },
    {
      "cell_type": "code",
      "metadata": {
        "id": "0kPhv2xcF1TP",
        "colab": {
          "base_uri": "https://localhost:8080/"
        },
        "outputId": "5433fedd-b4e1-4907-86de-a98da8d05e14"
      },
      "source": [
        "np.arange(10)[5:]"
      ],
      "execution_count": null,
      "outputs": [
        {
          "output_type": "execute_result",
          "data": {
            "text/plain": [
              "array([5, 6, 7, 8, 9])"
            ]
          },
          "metadata": {},
          "execution_count": 21
        }
      ]
    },
    {
      "cell_type": "markdown",
      "metadata": {
        "id": "ITu2Wy4-GB2G"
      },
      "source": [
        "We can also select only certain elements from the array"
      ]
    },
    {
      "cell_type": "code",
      "metadata": {
        "id": "8tlZzTB6GEyw",
        "colab": {
          "base_uri": "https://localhost:8080/"
        },
        "outputId": "db2c6c43-e59d-40b6-965e-edcf63bc6091"
      },
      "source": [
        "x = np.arange(10)\n",
        "mask = x >= 5\n",
        "x[mask]"
      ],
      "execution_count": null,
      "outputs": [
        {
          "output_type": "execute_result",
          "data": {
            "text/plain": [
              "array([5, 6, 7, 8, 9])"
            ]
          },
          "metadata": {},
          "execution_count": 22
        }
      ]
    },
    {
      "cell_type": "markdown",
      "metadata": {
        "id": "NlGForCimjBL"
      },
      "source": [
        "### Exercises"
      ]
    },
    {
      "cell_type": "markdown",
      "metadata": {
        "id": "Ur1UlSFPTu6O"
      },
      "source": [
        "**Exercise 1.** Create a 3d array of shape (2, 2, 2), containing 8 values. Access individual elements and slices."
      ]
    },
    {
      "cell_type": "code",
      "metadata": {
        "id": "v1ed4-vLUWXQ",
        "colab": {
          "base_uri": "https://localhost:8080/"
        },
        "outputId": "fd8547a1-0683-4fb9-b58d-ff3cbc688108"
      },
      "source": [
        "arr = np.array([[[1, 2], [3, 4]], [[5, 6], [7, 8]]])\n",
        "arr\n",
        "arr[0,0,0]\n",
        "arr[0,1,]\n",
        "arr[:,0,]\n"
      ],
      "execution_count": null,
      "outputs": [
        {
          "output_type": "execute_result",
          "data": {
            "text/plain": [
              "array([[1, 2],\n",
              "       [5, 6]])"
            ]
          },
          "metadata": {},
          "execution_count": 13
        }
      ]
    },
    {
      "cell_type": "markdown",
      "metadata": {
        "id": "s_ksfCDJzyxI"
      },
      "source": [
        "**Exercise 2.** Rewrite the [relu function](https://www.geeksforgeeks.org/activation-functions/) using [np.maximum](https://numpy.org/doc/stable/reference/generated/numpy.maximum.html). Check that it works on both a single value and on an array of values."
      ]
    },
    {
      "cell_type": "code",
      "metadata": {
        "id": "QtSTxH5Dz6f8",
        "colab": {
          "base_uri": "https://localhost:8080/"
        },
        "outputId": "229c1f22-8bec-4204-fe71-a119901ca996"
      },
      "source": [
        "def relu_numpy(x):\n",
        "  return np.maximum(0,x)\n",
        "\n",
        "print(relu_numpy(np.array([1, -3, 2.5])))\n",
        "print(relu_numpy(1))\n",
        "print(relu_numpy(-1))"
      ],
      "execution_count": null,
      "outputs": [
        {
          "output_type": "stream",
          "name": "stdout",
          "text": [
            "[1.  0.  2.5]\n",
            "1\n",
            "0\n"
          ]
        }
      ]
    },
    {
      "cell_type": "markdown",
      "metadata": {
        "id": "yd1ZoByo436x"
      },
      "source": [
        "**Exercise 3.** Compute the mean value of the features in the [iris dataset](https://scikit-learn.org/stable/modules/generated/sklearn.datasets.load_iris.html). Hint: use the `axis` argument on [np.mean](https://numpy.org/doc/stable/reference/generated/numpy.mean.html)."
      ]
    },
    {
      "cell_type": "code",
      "metadata": {
        "id": "fYFVobkP5JK6",
        "colab": {
          "base_uri": "https://localhost:8080/"
        },
        "outputId": "66dc65a6-968e-4916-fc93-3f33ae9dd97a"
      },
      "source": [
        "from sklearn.datasets import load_iris\n",
        "X, y = load_iris(return_X_y=True)\n",
        "mean=np.mean(X,axis=0)\n",
        "print(mean)\n",
        "# Result should be an array of size 4."
      ],
      "execution_count": null,
      "outputs": [
        {
          "output_type": "stream",
          "name": "stdout",
          "text": [
            "[5.84333333 3.05733333 3.758      1.19933333]\n"
          ]
        }
      ]
    },
    {
      "cell_type": "markdown",
      "source": [
        "## Matplotlib"
      ],
      "metadata": {
        "id": "4NUIwy9Fy520"
      }
    },
    {
      "cell_type": "markdown",
      "source": [
        "Matplotlib is a plotting library for Python.\n",
        "\n",
        "We start with a rudimentary plotting example."
      ],
      "metadata": {
        "id": "NnXeNKd-y9QJ"
      }
    },
    {
      "cell_type": "code",
      "source": [
        "from matplotlib import pyplot as plt\n",
        "\n",
        "x_values = np.linspace(-3, 3,100)\n",
        "\n",
        "plt.figure()\n",
        "plt.plot(x_values, np.sin(x_values), label=\"Sinusoid\")\n",
        "plt.xlabel(\"x\")\n",
        "plt.ylabel(\"sin(x)\")\n",
        "plt.title(\"Matplotlib example\")\n",
        "plt.legend(loc=\"upper right\")\n",
        "plt.show()"
      ],
      "metadata": {
        "colab": {
          "base_uri": "https://localhost:8080/",
          "height": 472
        },
        "id": "KydnXLCYy_J4",
        "outputId": "949f60d8-3d85-4b00-8f66-5079e4726773"
      },
      "execution_count": 10,
      "outputs": [
        {
          "output_type": "display_data",
          "data": {
            "text/plain": [
              "<Figure size 640x480 with 1 Axes>"
            ],
            "image/png": "[encoded data removed]"
          },
          "metadata": {}
        }
      ]
    },
    {
      "cell_type": "markdown",
      "source": [
        "We continue with a rudimentary scatter plot example. This example displays samples from the iris dataset using the first two features. Colors indicate class membership (there are 3 classes)."
      ],
      "metadata": {
        "id": "rX5qjodQzEwt"
      }
    },
    {
      "cell_type": "code",
      "source": [
        "from sklearn.datasets import load_iris\n",
        "X, y = load_iris(return_X_y=True)\n",
        "\n",
        "X_class0 = X[y == 0]\n",
        "X_class1 = X[y == 1]\n",
        "X_class2 = X[y == 2]\n",
        "\n",
        "plt.figure()\n",
        "plt.scatter(X_class0[:, 0], X_class0[:, 1], label=\"Class 0\", color=\"C0\")\n",
        "plt.scatter(X_class1[:, 0], X_class1[:, 1], label=\"Class 1\", color=\"C1\")\n",
        "plt.scatter(X_class2[:, 0], X_class2[:, 1], label=\"Class 2\", color=\"C2\")\n",
        "plt.show()"
      ],
      "metadata": {
        "colab": {
          "base_uri": "https://localhost:8080/",
          "height": 433
        },
        "id": "1__969gozGYU",
        "outputId": "dc0e5f9a-fe00-4510-a4c8-79fcc64ae25a"
      },
      "execution_count": null,
      "outputs": [
        {
          "output_type": "display_data",
          "data": {
            "text/plain": [
              "<Figure size 640x480 with 1 Axes>"
            ],
            "image/png": "[encoded data removed]"
          },
          "metadata": {}
        }
      ]
    },
    {
      "cell_type": "markdown",
      "source": [
        "We see that samples belonging to class 0 can be linearly separated from the rest using only the first two features."
      ],
      "metadata": {
        "id": "zK5Qj5XqzKM7"
      }
    },
    {
      "cell_type": "markdown",
      "metadata": {
        "id": "1X6-g6zgCwJd"
      },
      "source": [
        "**Exercise 1.** Plot the relu and the [softplus](https://en.wikipedia.org/wiki/Rectifier_(neural_networks)#Softplus) functions on the same graph."
      ]
    },
    {
      "cell_type": "code",
      "metadata": {
        "id": "Ob6HZUX0DJ8y",
        "colab": {
          "base_uri": "https://localhost:8080/",
          "height": 564
        },
        "outputId": "1fcaeb06-5b71-4625-b578-9e3c9bec6926"
      },
      "source": [
        "# write your code here\n",
        "def relu(x):\n",
        "  return np.maximum(0,x)\n",
        "def softplus(x):\n",
        "  return np.log(1+np.exp(x))\n",
        "x=np.linspace(-10,10,100)\n",
        "plt.figure(figsize=(6, 6))\n",
        "plt.scatter(x, relu(x), label=\"ReLU\", color='blue', alpha=0.7)\n",
        "plt.scatter(x, softplus(x), label=\"Softplus\", color='pink', alpha=0.7)\n",
        "plt.title('ReLU vs Softplus Functions')\n",
        "plt.xlabel('x')\n",
        "plt.ylabel('f(x)')\n",
        "plt.legend()\n",
        "plt.show()"
      ],
      "execution_count": 13,
      "outputs": [
        {
          "output_type": "display_data",
          "data": {
            "text/plain": [
              "<Figure size 600x600 with 1 Axes>"
            ],
            "image/png": "[encoded data removed]"
          },
          "metadata": {}
        }
      ]
    },
    {
      "cell_type": "markdown",
      "metadata": {
        "id": "vpRGfz0aDW3l"
      },
      "source": [
        "What is the main difference between the two functions?"
      ]
    },
    {
      "cell_type": "markdown",
      "metadata": {
        "id": "JjDeIufRAYVL"
      },
      "source": [
        "**Exercise 2.** Repeat the same scatter plot but using the [digits dataset](https://scikit-learn.org/stable/modules/generated/sklearn.datasets.load_digits.html) instead."
      ]
    },
    {
      "cell_type": "code",
      "metadata": {
        "id": "-JU3TXCBBB0c"
      },
      "source": [
        "from sklearn.datasets import load_digits\n",
        "X, y = load_digits(return_X_y=True)"
      ],
      "execution_count": null,
      "outputs": []
    },
    {
      "cell_type": "markdown",
      "metadata": {
        "id": "w7wPWdmXBQA2"
      },
      "source": [
        "Are pixel values good features for classifying samples?"
      ]
    },
    {
      "cell_type": "markdown",
      "source": [
        "## Pandas"
      ],
      "metadata": {
        "id": "bJOKEBDJ0hb-"
      }
    },
    {
      "cell_type": "markdown",
      "source": [
        "Pandas is a powerful Python library used for data manipulation and analysis. It provides data structures like Series and DataFrame, which are essential for handling and analyzing structured data. Pandas makes data analysis tasks like cleaning, transforming, and aggregating data easier and more efficient.\n"
      ],
      "metadata": {
        "id": "svylv_MY0kY9"
      }
    },
    {
      "cell_type": "code",
      "source": [
        "import pandas as pd\n",
        "\n",
        "print(f\"Pandas Version: {pd.__version__}\") # checking the version of Pandas we are using"
      ],
      "metadata": {
        "colab": {
          "base_uri": "https://localhost:8080/"
        },
        "id": "C_D9M6qp0oTn",
        "outputId": "bb70c436-fca5-4af0-a06c-e681226e1ca2"
      },
      "execution_count": 2,
      "outputs": [
        {
          "output_type": "stream",
          "name": "stdout",
          "text": [
            "Pandas Version: 2.1.4\n"
          ]
        }
      ]
    },
    {
      "cell_type": "markdown",
      "source": [
        "A Series is a one-dimensional labeled array capable of holding any data type. In this example, we create a simple Series from a list of integers. The Series has both a data column and an index column."
      ],
      "metadata": {
        "id": "_gZS8GA50zpx"
      }
    },
    {
      "cell_type": "code",
      "source": [
        "data = [10, 20, 30, 40, 50]\n",
        "series = pd.Series(data)\n",
        "series"
      ],
      "metadata": {
        "colab": {
          "base_uri": "https://localhost:8080/",
          "height": 241
        },
        "id": "mEKBBAT-03HW",
        "outputId": "0652c2c3-a06f-4ed7-ae6e-c04829b2a8e3"
      },
      "execution_count": 14,
      "outputs": [
        {
          "output_type": "execute_result",
          "data": {
            "text/plain": [
              "0    10\n",
              "1    20\n",
              "2    30\n",
              "3    40\n",
              "4    50\n",
              "dtype: int64"
            ],
            "text/html": [
              "<div>\n",
              "<style scoped>\n",
              "    .dataframe tbody tr th:only-of-type {\n",
              "        vertical-align: middle;\n",
              "    }\n",
              "\n",
              "    .dataframe tbody tr th {\n",
              "        vertical-align: top;\n",
              "    }\n",
              "\n",
              "    .dataframe thead th {\n",
              "        text-align: right;\n",
              "    }\n",
              "</style>\n",
              "<table border=\"1\" class=\"dataframe\">\n",
              "  <thead>\n",
              "    <tr style=\"text-align: right;\">\n",
              "      <th></th>\n",
              "      <th>0</th>\n",
              "    </tr>\n",
              "  </thead>\n",
              "  <tbody>\n",
              "    <tr>\n",
              "      <th>0</th>\n",
              "      <td>10</td>\n",
              "    </tr>\n",
              "    <tr>\n",
              "      <th>1</th>\n",
              "      <td>20</td>\n",
              "    </tr>\n",
              "    <tr>\n",
              "      <th>2</th>\n",
              "      <td>30</td>\n",
              "    </tr>\n",
              "    <tr>\n",
              "      <th>3</th>\n",
              "      <td>40</td>\n",
              "    </tr>\n",
              "    <tr>\n",
              "      <th>4</th>\n",
              "      <td>50</td>\n",
              "    </tr>\n",
              "  </tbody>\n",
              "</table>\n",
              "</div><br><label><b>dtype:</b> int64</label>"
            ]
          },
          "metadata": {},
          "execution_count": 14
        }
      ]
    },
    {
      "cell_type": "markdown",
      "source": [
        "A DataFrame is a two-dimensional, size-mutable, and potentially heterogeneous tabular data structure with labeled axes (rows and columns). Here, we create a DataFrame from a dictionary where keys are column names, and values are lists of data."
      ],
      "metadata": {
        "id": "2wEMr4ZI09Rh"
      }
    },
    {
      "cell_type": "code",
      "source": [
        "data = {\n",
        "    'Name': ['Alice', 'Bob', 'Charlie', 'David'],\n",
        "    'Age': [24, 27, 22, 32],\n",
        "    'City': ['New York', 'Los Angeles', 'Chicago', 'Houston']\n",
        "}\n",
        "\n",
        "df = pd.DataFrame(data)\n",
        "df"
      ],
      "metadata": {
        "colab": {
          "base_uri": "https://localhost:8080/",
          "height": 174
        },
        "id": "z4TVokpX0-fP",
        "outputId": "d8236811-26ff-4cf8-8c1a-49df18b528bb"
      },
      "execution_count": 3,
      "outputs": [
        {
          "output_type": "execute_result",
          "data": {
            "text/plain": [
              "      Name  Age         City\n",
              "0    Alice   24     New York\n",
              "1      Bob   27  Los Angeles\n",
              "2  Charlie   22      Chicago\n",
              "3    David   32      Houston"
            ],
            "text/html": [
              "\n",
              "  <div id=\"df-45b65ad8-90a9-4ac7-a7df-ae3b52d0aa7e\" class=\"colab-df-container\">\n",
              "    <div>\n",
              "<style scoped>\n",
              "    .dataframe tbody tr th:only-of-type {\n",
              "        vertical-align: middle;\n",
              "    }\n",
              "\n",
              "    .dataframe tbody tr th {\n",
              "        vertical-align: top;\n",
              "    }\n",
              "\n",
              "    .dataframe thead th {\n",
              "        text-align: right;\n",
              "    }\n",
              "</style>\n",
              "<table border=\"1\" class=\"dataframe\">\n",
              "  <thead>\n",
              "    <tr style=\"text-align: right;\">\n",
              "      <th></th>\n",
              "      <th>Name</th>\n",
              "      <th>Age</th>\n",
              "      <th>City</th>\n",
              "    </tr>\n",
              "  </thead>\n",
              "  <tbody>\n",
              "    <tr>\n",
              "      <th>0</th>\n",
              "      <td>Alice</td>\n",
              "      <td>24</td>\n",
              "      <td>New York</td>\n",
              "    </tr>\n",
              "    <tr>\n",
              "      <th>1</th>\n",
              "      <td>Bob</td>\n",
              "      <td>27</td>\n",
              "      <td>Los Angeles</td>\n",
              "    </tr>\n",
              "    <tr>\n",
              "      <th>2</th>\n",
              "      <td>Charlie</td>\n",
              "      <td>22</td>\n",
              "      <td>Chicago</td>\n",
              "    </tr>\n",
              "    <tr>\n",
              "      <th>3</th>\n",
              "      <td>David</td>\n",
              "      <td>32</td>\n",
              "      <td>Houston</td>\n",
              "    </tr>\n",
              "  </tbody>\n",
              "</table>\n",
              "</div>\n",
              "    <div class=\"colab-df-buttons\">\n",
              "\n",
              "  <div class=\"colab-df-container\">\n",
              "    <button class=\"colab-df-convert\" onclick=\"convertToInteractive('df-45b65ad8-90a9-4ac7-a7df-ae3b52d0aa7e')\"\n",
              "            title=\"Convert this dataframe to an interactive table.\"\n",
              "            style=\"display:none;\">\n",
              "\n",
              "  <svg xmlns=\"http://www.w3.org/2000/svg\" height=\"24px\" viewBox=\"0 -960 960 960\">\n",
              "    <path d=\"M120-120v-720h720v720H120Zm60-500h600v-160H180v160Zm220 220h160v-160H400v160Zm0 220h160v-160H400v160ZM180-400h160v-160H180v160Zm440 0h160v-160H620v160ZM180-180h160v-160H180v160Zm440 0h160v-160H620v160Z\"/>\n",
              "  </svg>\n",
              "    </button>\n",
              "\n",
              "  <style>\n",
              "    .colab-df-container {\n",
              "      display:flex;\n",
              "      gap: 12px;\n",
              "    }\n",
              "\n",
              "    .colab-df-convert {\n",
              "      background-color: #E8F0FE;\n",
              "      border: none;\n",
              "      border-radius: 50%;\n",
              "      cursor: pointer;\n",
              "      display: none;\n",
              "      fill: #1967D2;\n",
              "      height: 32px;\n",
              "      padding: 0 0 0 0;\n",
              "      width: 32px;\n",
              "    }\n",
              "\n",
              "    .colab-df-convert:hover {\n",
              "      background-color: #E2EBFA;\n",
              "      box-shadow: 0px 1px 2px rgba(60, 64, 67, 0.3), 0px 1px 3px 1px rgba(60, 64, 67, 0.15);\n",
              "      fill: #174EA6;\n",
              "    }\n",
              "\n",
              "    .colab-df-buttons div {\n",
              "      margin-bottom: 4px;\n",
              "    }\n",
              "\n",
              "    [theme=dark] .colab-df-convert {\n",
              "      background-color: #3B4455;\n",
              "      fill: #D2E3FC;\n",
              "    }\n",
              "\n",
              "    [theme=dark] .colab-df-convert:hover {\n",
              "      background-color: #434B5C;\n",
              "      box-shadow: 0px 1px 3px 1px rgba(0, 0, 0, 0.15);\n",
              "      filter: drop-shadow(0px 1px 2px rgba(0, 0, 0, 0.3));\n",
              "      fill: #FFFFFF;\n",
              "    }\n",
              "  </style>\n",
              "\n",
              "    <script>\n",
              "      const buttonEl =\n",
              "        document.querySelector('#df-45b65ad8-90a9-4ac7-a7df-ae3b52d0aa7e button.colab-df-convert');\n",
              "      buttonEl.style.display =\n",
              "        google.colab.kernel.accessAllowed ? 'block' : 'none';\n",
              "\n",
              "      async function convertToInteractive(key) {\n",
              "        const element = document.querySelector('#df-45b65ad8-90a9-4ac7-a7df-ae3b52d0aa7e');\n",
              "        const dataTable =\n",
              "          await google.colab.kernel.invokeFunction('convertToInteractive',\n",
              "                                                    [key], {});\n",
              "        if (!dataTable) return;\n",
              "\n",
              "        const docLinkHtml = 'Like what you see? Visit the ' +\n",
              "          '<a target=\"_blank\" href=https://colab.research.google.com/notebooks/data_table.ipynb>data table notebook</a>'\n",
              "          + ' to learn more about interactive tables.';\n",
              "        element.innerHTML = '';\n",
              "        dataTable['output_type'] = 'display_data';\n",
              "        await google.colab.output.renderOutput(dataTable, element);\n",
              "        const docLink = document.createElement('div');\n",
              "        docLink.innerHTML = docLinkHtml;\n",
              "        element.appendChild(docLink);\n",
              "      }\n",
              "    </script>\n",
              "  </div>\n",
              "\n",
              "\n",
              "<div id=\"df-1caebb86-bfca-4314-8dc6-4a23adf8d9d9\">\n",
              "  <button class=\"colab-df-quickchart\" onclick=\"quickchart('df-1caebb86-bfca-4314-8dc6-4a23adf8d9d9')\"\n",
              "            title=\"Suggest charts\"\n",
              "            style=\"display:none;\">\n",
              "\n",
              "<svg xmlns=\"http://www.w3.org/2000/svg\" height=\"24px\"viewBox=\"0 0 24 24\"\n",
              "     width=\"24px\">\n",
              "    <g>\n",
              "        <path d=\"M19 3H5c-1.1 0-2 .9-2 2v14c0 1.1.9 2 2 2h14c1.1 0 2-.9 2-2V5c0-1.1-.9-2-2-2zM9 17H7v-7h2v7zm4 0h-2V7h2v10zm4 0h-2v-4h2v4z\"/>\n",
              "    </g>\n",
              "</svg>\n",
              "  </button>\n",
              "\n",
              "<style>\n",
              "  .colab-df-quickchart {\n",
              "      --bg-color: #E8F0FE;\n",
              "      --fill-color: #1967D2;\n",
              "      --hover-bg-color: #E2EBFA;\n",
              "      --hover-fill-color: #174EA6;\n",
              "      --disabled-fill-color: #AAA;\n",
              "      --disabled-bg-color: #DDD;\n",
              "  }\n",
              "\n",
              "  [theme=dark] .colab-df-quickchart {\n",
              "      --bg-color: #3B4455;\n",
              "      --fill-color: #D2E3FC;\n",
              "      --hover-bg-color: #434B5C;\n",
              "      --hover-fill-color: #FFFFFF;\n",
              "      --disabled-bg-color: #3B4455;\n",
              "      --disabled-fill-color: #666;\n",
              "  }\n",
              "\n",
              "  .colab-df-quickchart {\n",
              "    background-color: var(--bg-color);\n",
              "    border: none;\n",
              "    border-radius: 50%;\n",
              "    cursor: pointer;\n",
              "    display: none;\n",
              "    fill: var(--fill-color);\n",
              "    height: 32px;\n",
              "    padding: 0;\n",
              "    width: 32px;\n",
              "  }\n",
              "\n",
              "  .colab-df-quickchart:hover {\n",
              "    background-color: var(--hover-bg-color);\n",
              "    box-shadow: 0 1px 2px rgba(60, 64, 67, 0.3), 0 1px 3px 1px rgba(60, 64, 67, 0.15);\n",
              "    fill: var(--button-hover-fill-color);\n",
              "  }\n",
              "\n",
              "  .colab-df-quickchart-complete:disabled,\n",
              "  .colab-df-quickchart-complete:disabled:hover {\n",
              "    background-color: var(--disabled-bg-color);\n",
              "    fill: var(--disabled-fill-color);\n",
              "    box-shadow: none;\n",
              "  }\n",
              "\n",
              "  .colab-df-spinner {\n",
              "    border: 2px solid var(--fill-color);\n",
              "    border-color: transparent;\n",
              "    border-bottom-color: var(--fill-color);\n",
              "    animation:\n",
              "      spin 1s steps(1) infinite;\n",
              "  }\n",
              "\n",
              "  @keyframes spin {\n",
              "    0% {\n",
              "      border-color: transparent;\n",
              "      border-bottom-color: var(--fill-color);\n",
              "      border-left-color: var(--fill-color);\n",
              "    }\n",
              "    20% {\n",
              "      border-color: transparent;\n",
              "      border-left-color: var(--fill-color);\n",
              "      border-top-color: var(--fill-color);\n",
              "    }\n",
              "    30% {\n",
              "      border-color: transparent;\n",
              "      border-left-color: var(--fill-color);\n",
              "      border-top-color: var(--fill-color);\n",
              "      border-right-color: var(--fill-color);\n",
              "    }\n",
              "    40% {\n",
              "      border-color: transparent;\n",
              "      border-right-color: var(--fill-color);\n",
              "      border-top-color: var(--fill-color);\n",
              "    }\n",
              "    60% {\n",
              "      border-color: transparent;\n",
              "      border-right-color: var(--fill-color);\n",
              "    }\n",
              "    80% {\n",
              "      border-color: transparent;\n",
              "      border-right-color: var(--fill-color);\n",
              "      border-bottom-color: var(--fill-color);\n",
              "    }\n",
              "    90% {\n",
              "      border-color: transparent;\n",
              "      border-bottom-color: var(--fill-color);\n",
              "    }\n",
              "  }\n",
              "</style>\n",
              "\n",
              "  <script>\n",
              "    async function quickchart(key) {\n",
              "      const quickchartButtonEl =\n",
              "        document.querySelector('#' + key + ' button');\n",
              "      quickchartButtonEl.disabled = true;  // To prevent multiple clicks.\n",
              "      quickchartButtonEl.classList.add('colab-df-spinner');\n",
              "      try {\n",
              "        const charts = await google.colab.kernel.invokeFunction(\n",
              "            'suggestCharts', [key], {});\n",
              "      } catch (error) {\n",
              "        console.error('Error during call to suggestCharts:', error);\n",
              "      }\n",
              "      quickchartButtonEl.classList.remove('colab-df-spinner');\n",
              "      quickchartButtonEl.classList.add('colab-df-quickchart-complete');\n",
              "    }\n",
              "    (() => {\n",
              "      let quickchartButtonEl =\n",
              "        document.querySelector('#df-1caebb86-bfca-4314-8dc6-4a23adf8d9d9 button');\n",
              "      quickchartButtonEl.style.display =\n",
              "        google.colab.kernel.accessAllowed ? 'block' : 'none';\n",
              "    })();\n",
              "  </script>\n",
              "</div>\n",
              "\n",
              "  <div id=\"id_629ed97e-f659-4813-b177-cdd029ec2052\">\n",
              "    <style>\n",
              "      .colab-df-generate {\n",
              "        background-color: #E8F0FE;\n",
              "        border: none;\n",
              "        border-radius: 50%;\n",
              "        cursor: pointer;\n",
              "        display: none;\n",
              "        fill: #1967D2;\n",
              "        height: 32px;\n",
              "        padding: 0 0 0 0;\n",
              "        width: 32px;\n",
              "      }\n",
              "\n",
              "      .colab-df-generate:hover {\n",
              "        background-color: #E2EBFA;\n",
              "        box-shadow: 0px 1px 2px rgba(60, 64, 67, 0.3), 0px 1px 3px 1px rgba(60, 64, 67, 0.15);\n",
              "        fill: #174EA6;\n",
              "      }\n",
              "\n",
              "      [theme=dark] .colab-df-generate {\n",
              "        background-color: #3B4455;\n",
              "        fill: #D2E3FC;\n",
              "      }\n",
              "\n",
              "      [theme=dark] .colab-df-generate:hover {\n",
              "        background-color: #434B5C;\n",
              "        box-shadow: 0px 1px 3px 1px rgba(0, 0, 0, 0.15);\n",
              "        filter: drop-shadow(0px 1px 2px rgba(0, 0, 0, 0.3));\n",
              "        fill: #FFFFFF;\n",
              "      }\n",
              "    </style>\n",
              "    <button class=\"colab-df-generate\" onclick=\"generateWithVariable('df')\"\n",
              "            title=\"Generate code using this dataframe.\"\n",
              "            style=\"display:none;\">\n",
              "\n",
              "  <svg xmlns=\"http://www.w3.org/2000/svg\" height=\"24px\"viewBox=\"0 0 24 24\"\n",
              "       width=\"24px\">\n",
              "    <path d=\"M7,19H8.4L18.45,9,17,7.55,7,17.6ZM5,21V16.75L18.45,3.32a2,2,0,0,1,2.83,0l1.4,1.43a1.91,1.91,0,0,1,.58,1.4,1.91,1.91,0,0,1-.58,1.4L9.25,21ZM18.45,9,17,7.55Zm-12,3A5.31,5.31,0,0,0,4.9,8.1,5.31,5.31,0,0,0,1,6.5,5.31,5.31,0,0,0,4.9,4.9,5.31,5.31,0,0,0,6.5,1,5.31,5.31,0,0,0,8.1,4.9,5.31,5.31,0,0,0,12,6.5,5.46,5.46,0,0,0,6.5,12Z\"/>\n",
              "  </svg>\n",
              "    </button>\n",
              "    <script>\n",
              "      (() => {\n",
              "      const buttonEl =\n",
              "        document.querySelector('#id_629ed97e-f659-4813-b177-cdd029ec2052 button.colab-df-generate');\n",
              "      buttonEl.style.display =\n",
              "        google.colab.kernel.accessAllowed ? 'block' : 'none';\n",
              "\n",
              "      buttonEl.onclick = () => {\n",
              "        google.colab.notebook.generateWithVariable('df');\n",
              "      }\n",
              "      })();\n",
              "    </script>\n",
              "  </div>\n",
              "\n",
              "    </div>\n",
              "  </div>\n"
            ],
            "application/vnd.google.colaboratory.intrinsic+json": {
              "type": "dataframe",
              "variable_name": "df",
              "summary": "{\n  \"name\": \"df\",\n  \"rows\": 4,\n  \"fields\": [\n    {\n      \"column\": \"Name\",\n      \"properties\": {\n        \"dtype\": \"string\",\n        \"num_unique_values\": 4,\n        \"samples\": [\n          \"Bob\",\n          \"David\",\n          \"Alice\"\n        ],\n        \"semantic_type\": \"\",\n        \"description\": \"\"\n      }\n    },\n    {\n      \"column\": \"Age\",\n      \"properties\": {\n        \"dtype\": \"number\",\n        \"std\": 4,\n        \"min\": 22,\n        \"max\": 32,\n        \"num_unique_values\": 4,\n        \"samples\": [\n          27,\n          32,\n          24\n        ],\n        \"semantic_type\": \"\",\n        \"description\": \"\"\n      }\n    },\n    {\n      \"column\": \"City\",\n      \"properties\": {\n        \"dtype\": \"string\",\n        \"num_unique_values\": 4,\n        \"samples\": [\n          \"Los Angeles\",\n          \"Houston\",\n          \"New York\"\n        ],\n        \"semantic_type\": \"\",\n        \"description\": \"\"\n      }\n    }\n  ]\n}"
            }
          },
          "metadata": {},
          "execution_count": 3
        }
      ]
    },
    {
      "cell_type": "markdown",
      "source": [
        "You can access individual columns using the column name, multiple columns by passing a list of column names, and specific rows using the .iloc[] method or by applying conditions."
      ],
      "metadata": {
        "id": "znEFC8PP1H7A"
      }
    },
    {
      "cell_type": "code",
      "source": [
        "print(df['Name'])\n",
        "print(df[['Name', 'City']])\n",
        "print(df.iloc[0])\n",
        "print(df[df['Age'] > 25])"
      ],
      "metadata": {
        "colab": {
          "base_uri": "https://localhost:8080/"
        },
        "id": "75dvatBT1J6b",
        "outputId": "556f3714-ead2-41b7-c989-1b53554fa116"
      },
      "execution_count": 15,
      "outputs": [
        {
          "output_type": "stream",
          "name": "stdout",
          "text": [
            "0      Alice\n",
            "1        Bob\n",
            "2    Charlie\n",
            "3      David\n",
            "Name: Name, dtype: object\n",
            "      Name         City\n",
            "0    Alice     New York\n",
            "1      Bob  Los Angeles\n",
            "2  Charlie      Chicago\n",
            "3    David      Houston\n",
            "Name         Alice\n",
            "Age             24\n",
            "City      New York\n",
            "Salary       70000\n",
            "Name: 0, dtype: object\n",
            "    Name  Age         City  Salary\n",
            "1    Bob   27  Los Angeles   80000\n",
            "3  David   32      Houston   90000\n"
          ]
        }
      ]
    },
    {
      "cell_type": "markdown",
      "source": [
        "Pandas allows for easy manipulation of DataFrames. In this example, we add a new column Salary to the DataFrame. We then calculate the mean age of the group using the .mean() method, which can be applied directly to a column."
      ],
      "metadata": {
        "id": "-NpGUFLV1R9U"
      }
    },
    {
      "cell_type": "code",
      "source": [
        "df['Salary'] = [70000, 80000, 60000, 90000]\n",
        "\n",
        "mean_age = df['Age'].mean()\n",
        "\n",
        "print(\"DataFrame after adding 'Salary' column:\")\n",
        "print(df)\n",
        "\n",
        "print(f\"\\nMean Age of the group: {mean_age:.2f} years\") # here .2f rounds off decimal place to 2 digits"
      ],
      "metadata": {
        "colab": {
          "base_uri": "https://localhost:8080/"
        },
        "id": "GcO_m-Ot1Tyz",
        "outputId": "0353ab9d-ef63-473e-da40-0a388559f454"
      },
      "execution_count": 4,
      "outputs": [
        {
          "output_type": "stream",
          "name": "stdout",
          "text": [
            "DataFrame after adding 'Salary' column:\n",
            "      Name  Age         City  Salary\n",
            "0    Alice   24     New York   70000\n",
            "1      Bob   27  Los Angeles   80000\n",
            "2  Charlie   22      Chicago   60000\n",
            "3    David   32      Houston   90000\n",
            "\n",
            "Mean Age of the group: 26.25 years\n"
          ]
        }
      ]
    },
    {
      "cell_type": "markdown",
      "source": [
        "Handling missing data is a common task in data analysis. This cell demonstrates how to introduce missing values (NaN) in a DataFrame and how to handle them using the .fillna() method. In this case, we fill the missing age with the mean age of the group."
      ],
      "metadata": {
        "id": "RRPAQV7D1by3"
      }
    },
    {
      "cell_type": "code",
      "source": [
        "df.loc[2, 'Age'] = None\n",
        "\n",
        "print(\"DataFrame with missing value:\")\n",
        "print(df)\n",
        "\n",
        "df_filled = df.fillna(df['Age'].mean())\n",
        "\n",
        "print(\"\\nDataFrame after filling missing values with mean age:\")\n",
        "print(df_filled)"
      ],
      "metadata": {
        "colab": {
          "base_uri": "https://localhost:8080/"
        },
        "id": "VfG6xV2R1pcq",
        "outputId": "0dcc6780-956c-468e-d162-d4fb734b48ef"
      },
      "execution_count": 16,
      "outputs": [
        {
          "output_type": "stream",
          "name": "stdout",
          "text": [
            "DataFrame with missing value:\n",
            "      Name   Age         City  Salary\n",
            "0    Alice  24.0     New York   70000\n",
            "1      Bob  27.0  Los Angeles   80000\n",
            "2  Charlie   NaN      Chicago   60000\n",
            "3    David  32.0      Houston   90000\n",
            "\n",
            "DataFrame after filling missing values with mean age:\n",
            "      Name        Age         City  Salary\n",
            "0    Alice  24.000000     New York   70000\n",
            "1      Bob  27.000000  Los Angeles   80000\n",
            "2  Charlie  27.666667      Chicago   60000\n",
            "3    David  32.000000      Houston   90000\n"
          ]
        }
      ]
    },
    {
      "cell_type": "markdown",
      "source": [
        "Aggregation is another powerful feature of pandas. In this cell, we group the DataFrame by the City column and calculate the mean of the Age and Salary columns for each city. The .groupby() and .agg() methods are used for this purpose."
      ],
      "metadata": {
        "id": "kLAfUEhL1wzl"
      }
    },
    {
      "cell_type": "code",
      "source": [
        "grouped = df.groupby('City').agg({'Age': 'mean', 'Salary': 'mean'})\n",
        "print(\"Mean Age and Salary by City:\")\n",
        "print(grouped)"
      ],
      "metadata": {
        "colab": {
          "base_uri": "https://localhost:8080/"
        },
        "id": "YfNWlygv1yOH",
        "outputId": "c6f660f3-933e-41fe-979c-fea88e79ab64"
      },
      "execution_count": 17,
      "outputs": [
        {
          "output_type": "stream",
          "name": "stdout",
          "text": [
            "Mean Age and Salary by City:\n",
            "              Age   Salary\n",
            "City                      \n",
            "Chicago       NaN  60000.0\n",
            "Houston      32.0  90000.0\n",
            "Los Angeles  27.0  80000.0\n",
            "New York     24.0  70000.0\n"
          ]
        }
      ]
    },
    {
      "cell_type": "markdown",
      "source": [
        "## Flask"
      ],
      "metadata": {
        "id": "BjAiJOzk2EPA"
      }
    },
    {
      "cell_type": "markdown",
      "source": [
        "Flask is a lightweight web framework for Python, designed to make it easy to build web applications. It is known for its simplicity and flexibility, allowing developers to create web apps with minimal overhead. Flask follows the WSGI (Web Server Gateway Interface) standard and is based on Werkzeug and Jinja2.\n"
      ],
      "metadata": {
        "id": "t6AYBtbl2OCH"
      }
    },
    {
      "cell_type": "code",
      "source": [
        "!pip install flask"
      ],
      "metadata": {
        "colab": {
          "base_uri": "https://localhost:8080/"
        },
        "id": "xycwI0822QlH",
        "outputId": "370e0456-bb28-4896-906f-e24af4f6afae"
      },
      "execution_count": 5,
      "outputs": [
        {
          "output_type": "stream",
          "name": "stdout",
          "text": [
            "Requirement already satisfied: flask in /usr/local/lib/python3.10/dist-packages (2.2.5)\n",
            "Requirement already satisfied: Werkzeug>=2.2.2 in /usr/local/lib/python3.10/dist-packages (from flask) (3.0.4)\n",
            "Requirement already satisfied: Jinja2>=3.0 in /usr/local/lib/python3.10/dist-packages (from flask) (3.1.4)\n",
            "Requirement already satisfied: itsdangerous>=2.0 in /usr/local/lib/python3.10/dist-packages (from flask) (2.2.0)\n",
            "Requirement already satisfied: click>=8.0 in /usr/local/lib/python3.10/dist-packages (from flask) (8.1.7)\n",
            "Requirement already satisfied: MarkupSafe>=2.0 in /usr/local/lib/python3.10/dist-packages (from Jinja2>=3.0->flask) (2.1.5)\n"
          ]
        }
      ]
    },
    {
      "cell_type": "markdown",
      "source": [
        "We create a basic Flask application. The Flask class is used to create an app instance, and we define a route using the @app.route decorator. This route maps the URL path '/' (home page) to the home() function, which returns a simple string message.\n",
        "\n",
        "NOTE: YOU HAVE TO RUN ALL THE FOLLOWING CODE IN LOCAL (VSCODE)"
      ],
      "metadata": {
        "id": "669k-vMp2XnU"
      }
    },
    {
      "cell_type": "code",
      "source": [
        "from flask import Flask\n",
        "\n",
        "app = Flask(__name__)\n",
        "\n",
        "@app.route('/')\n",
        "def home():\n",
        "    return \"Welcome to Flask!\"\n",
        "\n",
        "@app.route('/about')\n",
        "def about():\n",
        "    return \"This is the about page.\"\n",
        "\n",
        "\n",
        "@app.route('/user/<name>') # A route with a dynamic URL parameter\n",
        "def user(name):\n",
        "    return f\"Hello, {name}!\"\n",
        "\n",
        "if __name__ == \"__main__\":\n",
        "    app.run(debug=True)"
      ],
      "metadata": {
        "colab": {
          "base_uri": "https://localhost:8080/"
        },
        "id": "WI6YcsSc2an-",
        "outputId": "2ec1d881-2f70-4f49-af4d-c3d106ca1a14"
      },
      "execution_count": null,
      "outputs": [
        {
          "output_type": "stream",
          "name": "stdout",
          "text": [
            " * Serving Flask app '__main__'\n",
            " * Debug mode: on\n"
          ]
        },
        {
          "output_type": "stream",
          "name": "stderr",
          "text": [
            "INFO:werkzeug:\u001b[31m\u001b[1mWARNING: This is a development server. Do not use it in a production deployment. Use a production WSGI server instead.\u001b[0m\n",
            " * Running on http://127.0.0.1:5000\n",
            "INFO:werkzeug:\u001b[33mPress CTRL+C to quit\u001b[0m\n",
            "INFO:werkzeug: * Restarting with stat\n"
          ]
        }
      ]
    },
    {
      "cell_type": "markdown",
      "source": [
        "Flask allows you to handle different HTTP methods (GET, POST, etc.). In this example, the /submit route handles both GET and POST requests. If the request method is POST, it processes the form data and returns a response; otherwise, it displays an HTML form."
      ],
      "metadata": {
        "id": "D6V7U0ZZ3E0t"
      }
    },
    {
      "cell_type": "code",
      "source": [
        "from flask import request\n",
        "\n",
        "@app.route('/submit', methods=['GET', 'POST'])\n",
        "def submit():\n",
        "    if request.method == 'POST':\n",
        "        name = request.form.get('name')\n",
        "        return f\"Form submitted! Hello, {name}!\"\n",
        "    return '''\n",
        "        <form method=\"post\">\n",
        "            Name: <input type=\"text\" name=\"name\">\n",
        "            <input type=\"submit\">\n",
        "        </form>\n",
        "    '''"
      ],
      "metadata": {
        "id": "dar15ZRn3GtD"
      },
      "execution_count": null,
      "outputs": []
    },
    {
      "cell_type": "markdown",
      "source": [
        "Flask uses the Jinja2 template engine to render HTML templates. In this example, we use the render_template() function to render an HTML file named index.html."
      ],
      "metadata": {
        "id": "gulArvZ_3NxP"
      }
    },
    {
      "cell_type": "code",
      "source": [
        "from flask import render_template\n",
        "\n",
        "# write a simple 'index.html' file in a 'templates' folder\n",
        "@app.route('/template')\n",
        "def template():\n",
        "    return render_template('index.html')"
      ],
      "metadata": {
        "id": "S3Hyi2IR3OJn"
      },
      "execution_count": null,
      "outputs": []
    },
    {
      "cell_type": "markdown",
      "source": [
        "Flask can easily handle JSON data using the jsonify() function. In this cell, the /data route returns a JSON response containing some user data. This is particularly useful when building APIs."
      ],
      "metadata": {
        "id": "2GQyznNX3WeJ"
      }
    },
    {
      "cell_type": "code",
      "source": [
        "from flask import jsonify\n",
        "\n",
        "@app.route('/data')\n",
        "def data():\n",
        "    response_data = {'name': 'Alice', 'age': 24, 'city': 'New York'}\n",
        "    return jsonify(response_data)"
      ],
      "metadata": {
        "id": "s_-KO3Mm3WCb"
      },
      "execution_count": null,
      "outputs": []
    },
    {
      "cell_type": "markdown",
      "source": [
        "This example demonstrates how to create a RESTful API endpoint in Flask. The /api/user/<int:id> route takes an integer ID as a parameter and returns the corresponding user’s name in JSON format."
      ],
      "metadata": {
        "id": "lPOhgnC43dwz"
      }
    },
    {
      "cell_type": "code",
      "source": [
        "@app.route('/api/user/<int:id>', methods=['GET'])\n",
        "def get_user(id):\n",
        "    users = {1: 'Alice', 2: 'Bob', 3: 'Charlie'}\n",
        "    user = users.get(id, 'User not found')\n",
        "    return jsonify({'id': id, 'name': user})"
      ],
      "metadata": {
        "id": "EoiV3tLl3eX8"
      },
      "execution_count": null,
      "outputs": []
    },
    {
      "cell_type": "markdown",
      "source": [
        "**Exercise Time**\n",
        "\n",
        "Objective:\n",
        "\n",
        "Create a simple Flask application that integrates with a pre-trained model from Hugging Face. The application will allow users to input text and receive a response generated by the model.\n",
        "\n",
        "Exercise Requirements:\n",
        "\n",
        "Set up a basic Flask application.\n",
        "Create a single route (/predict) that accepts POST requests.\n",
        "The route should accept user input (text) and pass it to a Hugging Face model for processing.\n",
        "Return the model's output to the user.\n",
        "\n",
        "Use the Hugging Face 'transformers' library to load a pre-trained model.\n",
        "For simplicity, use a text generation model like 'distilgpt2'."
      ],
      "metadata": {
        "id": "hFEOn6RR4kYD"
      }
    },
    {
      "cell_type": "markdown",
      "source": [
        "# Study Resources"
      ],
      "metadata": {
        "id": "DVQ5ll_J5Inl"
      }
    },
    {
      "cell_type": "markdown",
      "source": [
        "Data analytics:\n",
        "\n",
        "[Python Libraries In-Depth](https://www.udemy.com/course/data-analytics-in-python/)\n",
        "\n",
        "Testing:\n",
        "\n",
        "[RealPython](https://realpython.com/python-doctest/)\n",
        "\n",
        "[PyTest](https://docs.pytest.org/en/stable/contents.html)\n",
        "\n",
        "Backend:\n",
        "\n",
        "[Django](https://www.djangoproject.com/)\n",
        "\n",
        "[DjangoGirls](https://tutorial.djangogirls.org/en/)\n",
        "\n",
        "[FastAPI](https://fastapi.tiangolo.com/)\n",
        "\n",
        "Networking using Python:\n",
        "\n",
        "[Network Protocols and Web Sockets](https://medium.com/@AlexanderObregon/python-for-network-programming-a-beginners-overview-e9379cc44479#:~:text=The%20Role%20of%20Python%20in,client%20and%20http.)\n",
        "\n",
        "GUI:\n",
        "\n",
        "[RealPython](https://realpython.com/python-gui-tkinter/)\n",
        "\n",
        "[Tkinter](https://docs.codio.com/instructors/setupcourses/resources/resourcetools/tkinter.html)\n",
        "\n",
        "*Advanced*\n",
        "\n",
        "Automation:\n",
        "\n",
        "[Projects based on Selenium or BeautifulSoup](https://www.geeksforgeeks.org/python-automation/)\n",
        "\n",
        "Artificial Intelligence:\n",
        "\n",
        "[Language](https://www.analyticsvidhya.com/blog/2022/05/a-complete-guide-on-chatbot-development-using-python/)\n",
        "\n",
        "[Videos and Images](https://www.analyticsvidhya.com/blog/2023/09/image-generation-using-stable-diffusion/)\n",
        "\n",
        "\n",
        "Courses:\n",
        "\n",
        "[cs50p](https://cs50.harvard.edu/python/2022/) you can skip a few lectures (I would recommend to start watching lectures from week 5) but do all the exercises\n",
        "\n",
        "[GooglePythonClass](https://www.youtube.com/playlist?list=PLC8825D0450647509) this is a video course if that helps"
      ],
      "metadata": {
        "id": "s8WJTf2S5PjJ"
      }
    },
    {
      "cell_type": "markdown",
      "source": [
        "# Final Project (OPTIONAL)"
      ],
      "metadata": {
        "id": "8tm2u49a_HoN"
      }
    },
    {
      "cell_type": "markdown",
      "source": [
        "## **Expense Tracker with Data Analysis and Visualization**\n",
        "\n",
        "### **Project Overview:**\n",
        "\n",
        "Create a command-line or web-based expense tracker that allows users to record, analyze, and visualize their expenses. This project will incorporate various Python concepts, including loops, conditionals, data structures, functions, error handling, OOP, file I/O, and data analysis with NumPy and Pandas.\n",
        "\n",
        "### **Project Requirements:**\n",
        "\n",
        "**Data Input and Storage:**\n",
        "\n",
        "Allow users to input their daily expenses, including date, category (e.g., food, transportation), and amount.\n",
        "Store the expenses in a file (e.g., CSV) or in-memory using lists, tuples, or dictionaries.\n",
        "\n",
        "**Data Processing:**\n",
        "\n",
        "Implement functions to load, save, and process the expense data.\n",
        "Use loops, if-else statements, and functions to filter and categorize expenses.\n",
        "\n",
        "**String Manipulation and Regular Expressions:**\n",
        "\n",
        "Parse and validate user input, such as dates and categories, using string manipulation and regular expressions.\n",
        "Ensure that dates are in the correct format and categories match predefined options.\n",
        "\n",
        "**Error Handling:**\n",
        "\n",
        "Implement try-except blocks to handle possible errors (e.g., invalid input, file not found).\n",
        "\n",
        "**Object-Oriented Programming:**\n",
        "\n",
        "Design classes to represent an Expense and an ExpenseTracker with methods for adding, deleting, and summarizing expenses.\n",
        "Use decorators for any additional functionality (e.g., logging).\n",
        "\n",
        "**Data Analysis with NumPy and Pandas:**\n",
        "\n",
        "Convert the expense data into a Pandas DataFrame for easy manipulation and analysis.\n",
        "Use NumPy for numerical operations, such as calculating total expenses, average spending, and category-wise breakdowns.\n",
        "Perform basic regression analysis to predict future expenses based on historical data.\n",
        "\n",
        "**Visualization:**\n",
        "\n",
        "Create visualizations (e.g., bar charts, pie charts) to display the distribution of expenses by category or over time.\n",
        "Use Pandas plotting functions or Matplotlib for visualization.\n",
        "\n",
        "**Flask Integration (Optional):**\n",
        "\n",
        "Optionally, build a simple Flask app with routes for inputting expenses, viewing summaries, and displaying visualizations.\n",
        "Use Flask to provide a web-based interface for the expense tracker.\n",
        "\n",
        "### **Step-by-Step Implementation:**\n",
        "\n",
        "**Set Up the Expense Tracker:**\n",
        "\n",
        "Create classes for Expense (attributes: date, category, amount) and ExpenseTracker (methods: add_expense, delete_expense, summarize_expenses).\n",
        "Implement functions to read/write expenses from/to a file.\n",
        "\n",
        "**Data Input and Validation:**\n",
        "\n",
        "Implement a command-line interface (CLI) or web form to input expenses.\n",
        "Use regular expressions to validate the date format and ensure categories are correct.\n",
        "\n",
        "**Expense Analysis:**\n",
        "\n",
        "Write functions to calculate total expenses, monthly summaries, and category-wise distributions.\n",
        "Use NumPy and Pandas to perform data analysis and create summaries.\n",
        "\n",
        "**Visualization:**\n",
        "\n",
        "Generate visualizations to help users understand their spending habits.\n",
        "Create bar charts showing monthly expenses or pie charts showing category distributions.\n",
        "\n",
        "**Error Handling and Scope Management:**\n",
        "\n",
        "Ensure all user inputs are validated and handled gracefully using try-except.\n",
        "Keep data encapsulated within classes and methods, and manage variable scope effectively.\n",
        "\n",
        "**Flask Integration (Optional):**\n",
        "\n",
        "If creating a web-based app, build a simple Flask application with routes for adding expenses and viewing summaries.\n",
        "Display visualizations directly in the web interface using Flask templates.\n",
        "\n",
        "### **Project Outcome:**\n",
        "\n",
        "By the end of this project, you will have an expense tracker that allows users to record and analyze their expenses. This project will help you practice Python's core concepts and provide a practical tool for managing personal finances.\n",
        "\n",
        "**Bonus Features:**\n",
        "\n",
        "Add a feature to export expense summaries as CSV or PDF.\n",
        "Include advanced filtering options, like filtering by date range or category.\n",
        "Extend the app to allow multiple users with separate expense tracking."
      ],
      "metadata": {
        "id": "Q_6JxhzB_J7Q"
      }
    }
  ]
}